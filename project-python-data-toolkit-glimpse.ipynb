{
 "cells": [
  {
   "cell_type": "markdown",
   "metadata": {},
   "source": [
    "# 結合 Python 基礎資料分析套件的小專案\n",
    "\n",
    "> 使用 numpy、pandas 與 matplotlib 抓出累計確診數趨勢與每日新增確診數。\n",
    ">\n",
    "> 標籤：程式設計，獲取載入，整併轉換，摘要探索\n",
    "\n",
    "郭耀仁 <yaojenkuo@datainpoint.com> from [DATAINPOINT](https://datainpoint.substack.com/welcome)"
   ]
  },
  {
   "cell_type": "code",
   "execution_count": 1,
   "metadata": {},
   "outputs": [],
   "source": [
    "# 載入專案需要使用的套件\n",
    "import numpy as np\n",
    "import pandas as pd\n",
    "import matplotlib.pyplot as plt"
   ]
  },
  {
   "cell_type": "markdown",
   "metadata": {},
   "source": [
    "## TL; DR\n",
    "\n",
    "在這個專案中，我們打算使用 numpy、pandas 與 matplotlib 抓出確診數趨勢與每日新增量；首先使用 pandas 將約翰霍普金斯大學 COVID-19 Data Repository 中的時間序列資料 time_series_covid19_confirmed_global.csv 載入、接著使用 numpy  計算每日新增確診人數、最後使用 matplotlib 繪製累計確診數趨勢與每日新增確診數。透過這個專案，我們能夠暸解如何整合運用三個 Python 的基礎資料分析套件。"
   ]
  },
  {
   "cell_type": "markdown",
   "metadata": {},
   "source": [
    "## 取得時間序列資料\n",
    "\n",
    "時間序列資料 time_series_covid19_confirmed_global.csv 可以從約翰霍普金斯大學的 COVID-19 Data Repository 取得；使用 `pandas` 套件中的 `read_csv()` 函式載入為資料框。"
   ]
  },
  {
   "cell_type": "code",
   "execution_count": 2,
   "metadata": {},
   "outputs": [
    {
     "name": "stdout",
     "output_type": "stream",
     "text": [
      "(266, 242)\n"
     ]
    }
   ],
   "source": [
    "request_url = \"https://raw.githubusercontent.com/CSSEGISandData/COVID-19/master/csse_covid_19_data/csse_covid_19_time_series/time_series_covid19_confirmed_global.csv\"\n",
    "time_series = pd.read_csv(request_url)\n",
    "print(time_series.shape)"
   ]
  },
  {
   "cell_type": "code",
   "execution_count": 3,
   "metadata": {},
   "outputs": [
    {
     "data": {
      "text/html": [
       "<div>\n",
       "<style scoped>\n",
       "    .dataframe tbody tr th:only-of-type {\n",
       "        vertical-align: middle;\n",
       "    }\n",
       "\n",
       "    .dataframe tbody tr th {\n",
       "        vertical-align: top;\n",
       "    }\n",
       "\n",
       "    .dataframe thead th {\n",
       "        text-align: right;\n",
       "    }\n",
       "</style>\n",
       "<table border=\"1\" class=\"dataframe\">\n",
       "  <thead>\n",
       "    <tr style=\"text-align: right;\">\n",
       "      <th></th>\n",
       "      <th>Province/State</th>\n",
       "      <th>Country/Region</th>\n",
       "      <th>Lat</th>\n",
       "      <th>Long</th>\n",
       "      <th>1/22/20</th>\n",
       "      <th>1/23/20</th>\n",
       "      <th>1/24/20</th>\n",
       "      <th>1/25/20</th>\n",
       "      <th>1/26/20</th>\n",
       "      <th>1/27/20</th>\n",
       "      <th>...</th>\n",
       "      <th>9/6/20</th>\n",
       "      <th>9/7/20</th>\n",
       "      <th>9/8/20</th>\n",
       "      <th>9/9/20</th>\n",
       "      <th>9/10/20</th>\n",
       "      <th>9/11/20</th>\n",
       "      <th>9/12/20</th>\n",
       "      <th>9/13/20</th>\n",
       "      <th>9/14/20</th>\n",
       "      <th>9/15/20</th>\n",
       "    </tr>\n",
       "  </thead>\n",
       "  <tbody>\n",
       "    <tr>\n",
       "      <th>0</th>\n",
       "      <td>NaN</td>\n",
       "      <td>Afghanistan</td>\n",
       "      <td>33.93911</td>\n",
       "      <td>67.709953</td>\n",
       "      <td>0</td>\n",
       "      <td>0</td>\n",
       "      <td>0</td>\n",
       "      <td>0</td>\n",
       "      <td>0</td>\n",
       "      <td>0</td>\n",
       "      <td>...</td>\n",
       "      <td>38398</td>\n",
       "      <td>38494</td>\n",
       "      <td>38520</td>\n",
       "      <td>38544</td>\n",
       "      <td>38572</td>\n",
       "      <td>38606</td>\n",
       "      <td>38641</td>\n",
       "      <td>38716</td>\n",
       "      <td>38772</td>\n",
       "      <td>38815</td>\n",
       "    </tr>\n",
       "    <tr>\n",
       "      <th>1</th>\n",
       "      <td>NaN</td>\n",
       "      <td>Albania</td>\n",
       "      <td>41.15330</td>\n",
       "      <td>20.168300</td>\n",
       "      <td>0</td>\n",
       "      <td>0</td>\n",
       "      <td>0</td>\n",
       "      <td>0</td>\n",
       "      <td>0</td>\n",
       "      <td>0</td>\n",
       "      <td>...</td>\n",
       "      <td>10255</td>\n",
       "      <td>10406</td>\n",
       "      <td>10553</td>\n",
       "      <td>10704</td>\n",
       "      <td>10860</td>\n",
       "      <td>11021</td>\n",
       "      <td>11185</td>\n",
       "      <td>11353</td>\n",
       "      <td>11520</td>\n",
       "      <td>11672</td>\n",
       "    </tr>\n",
       "    <tr>\n",
       "      <th>2</th>\n",
       "      <td>NaN</td>\n",
       "      <td>Algeria</td>\n",
       "      <td>28.03390</td>\n",
       "      <td>1.659600</td>\n",
       "      <td>0</td>\n",
       "      <td>0</td>\n",
       "      <td>0</td>\n",
       "      <td>0</td>\n",
       "      <td>0</td>\n",
       "      <td>0</td>\n",
       "      <td>...</td>\n",
       "      <td>46364</td>\n",
       "      <td>46653</td>\n",
       "      <td>46938</td>\n",
       "      <td>47216</td>\n",
       "      <td>47488</td>\n",
       "      <td>47752</td>\n",
       "      <td>48007</td>\n",
       "      <td>48254</td>\n",
       "      <td>48496</td>\n",
       "      <td>48734</td>\n",
       "    </tr>\n",
       "    <tr>\n",
       "      <th>3</th>\n",
       "      <td>NaN</td>\n",
       "      <td>Andorra</td>\n",
       "      <td>42.50630</td>\n",
       "      <td>1.521800</td>\n",
       "      <td>0</td>\n",
       "      <td>0</td>\n",
       "      <td>0</td>\n",
       "      <td>0</td>\n",
       "      <td>0</td>\n",
       "      <td>0</td>\n",
       "      <td>...</td>\n",
       "      <td>1215</td>\n",
       "      <td>1261</td>\n",
       "      <td>1261</td>\n",
       "      <td>1301</td>\n",
       "      <td>1301</td>\n",
       "      <td>1344</td>\n",
       "      <td>1344</td>\n",
       "      <td>1344</td>\n",
       "      <td>1438</td>\n",
       "      <td>1438</td>\n",
       "    </tr>\n",
       "    <tr>\n",
       "      <th>4</th>\n",
       "      <td>NaN</td>\n",
       "      <td>Angola</td>\n",
       "      <td>-11.20270</td>\n",
       "      <td>17.873900</td>\n",
       "      <td>0</td>\n",
       "      <td>0</td>\n",
       "      <td>0</td>\n",
       "      <td>0</td>\n",
       "      <td>0</td>\n",
       "      <td>0</td>\n",
       "      <td>...</td>\n",
       "      <td>2965</td>\n",
       "      <td>2981</td>\n",
       "      <td>3033</td>\n",
       "      <td>3092</td>\n",
       "      <td>3217</td>\n",
       "      <td>3279</td>\n",
       "      <td>3335</td>\n",
       "      <td>3388</td>\n",
       "      <td>3439</td>\n",
       "      <td>3569</td>\n",
       "    </tr>\n",
       "  </tbody>\n",
       "</table>\n",
       "<p>5 rows × 242 columns</p>\n",
       "</div>"
      ],
      "text/plain": [
       "  Province/State Country/Region       Lat       Long  1/22/20  1/23/20  \\\n",
       "0            NaN    Afghanistan  33.93911  67.709953        0        0   \n",
       "1            NaN        Albania  41.15330  20.168300        0        0   \n",
       "2            NaN        Algeria  28.03390   1.659600        0        0   \n",
       "3            NaN        Andorra  42.50630   1.521800        0        0   \n",
       "4            NaN         Angola -11.20270  17.873900        0        0   \n",
       "\n",
       "   1/24/20  1/25/20  1/26/20  1/27/20  ...  9/6/20  9/7/20  9/8/20  9/9/20  \\\n",
       "0        0        0        0        0  ...   38398   38494   38520   38544   \n",
       "1        0        0        0        0  ...   10255   10406   10553   10704   \n",
       "2        0        0        0        0  ...   46364   46653   46938   47216   \n",
       "3        0        0        0        0  ...    1215    1261    1261    1301   \n",
       "4        0        0        0        0  ...    2965    2981    3033    3092   \n",
       "\n",
       "   9/10/20  9/11/20  9/12/20  9/13/20  9/14/20  9/15/20  \n",
       "0    38572    38606    38641    38716    38772    38815  \n",
       "1    10860    11021    11185    11353    11520    11672  \n",
       "2    47488    47752    48007    48254    48496    48734  \n",
       "3     1301     1344     1344     1344     1438     1438  \n",
       "4     3217     3279     3335     3388     3439     3569  \n",
       "\n",
       "[5 rows x 242 columns]"
      ]
     },
     "execution_count": 3,
     "metadata": {},
     "output_type": "execute_result"
    }
   ],
   "source": [
    "time_series.head()"
   ]
  },
  {
   "cell_type": "markdown",
   "metadata": {},
   "source": [
    "## 轉置時間序列資料框\n",
    "\n",
    "從原始載入的資料框中我們可以觀察到日期資訊擺放在欄位名稱，這是一種被稱為寬格式（wide-format）的外型，使用 `pandas` 套件中的 `melt()` 函式可以轉換為長格式（long-format）的外型，讓日期資訊可以轉置到資料列中，改以日期與確診數作為欄位名稱。"
   ]
  },
  {
   "cell_type": "code",
   "execution_count": 4,
   "metadata": {},
   "outputs": [
    {
     "name": "stdout",
     "output_type": "stream",
     "text": [
      "(63308, 6)\n"
     ]
    }
   ],
   "source": [
    "id_cols = time_series.columns[:4]\n",
    "time_series_long = pd.melt(time_series, id_vars=id_cols, var_name='Date', value_name='Confirmed')\n",
    "print(time_series_long.shape)"
   ]
  },
  {
   "cell_type": "code",
   "execution_count": 5,
   "metadata": {},
   "outputs": [
    {
     "data": {
      "text/html": [
       "<div>\n",
       "<style scoped>\n",
       "    .dataframe tbody tr th:only-of-type {\n",
       "        vertical-align: middle;\n",
       "    }\n",
       "\n",
       "    .dataframe tbody tr th {\n",
       "        vertical-align: top;\n",
       "    }\n",
       "\n",
       "    .dataframe thead th {\n",
       "        text-align: right;\n",
       "    }\n",
       "</style>\n",
       "<table border=\"1\" class=\"dataframe\">\n",
       "  <thead>\n",
       "    <tr style=\"text-align: right;\">\n",
       "      <th></th>\n",
       "      <th>Province/State</th>\n",
       "      <th>Country/Region</th>\n",
       "      <th>Lat</th>\n",
       "      <th>Long</th>\n",
       "      <th>Date</th>\n",
       "      <th>Confirmed</th>\n",
       "    </tr>\n",
       "  </thead>\n",
       "  <tbody>\n",
       "    <tr>\n",
       "      <th>0</th>\n",
       "      <td>NaN</td>\n",
       "      <td>Afghanistan</td>\n",
       "      <td>33.93911</td>\n",
       "      <td>67.709953</td>\n",
       "      <td>1/22/20</td>\n",
       "      <td>0</td>\n",
       "    </tr>\n",
       "    <tr>\n",
       "      <th>1</th>\n",
       "      <td>NaN</td>\n",
       "      <td>Albania</td>\n",
       "      <td>41.15330</td>\n",
       "      <td>20.168300</td>\n",
       "      <td>1/22/20</td>\n",
       "      <td>0</td>\n",
       "    </tr>\n",
       "    <tr>\n",
       "      <th>2</th>\n",
       "      <td>NaN</td>\n",
       "      <td>Algeria</td>\n",
       "      <td>28.03390</td>\n",
       "      <td>1.659600</td>\n",
       "      <td>1/22/20</td>\n",
       "      <td>0</td>\n",
       "    </tr>\n",
       "    <tr>\n",
       "      <th>3</th>\n",
       "      <td>NaN</td>\n",
       "      <td>Andorra</td>\n",
       "      <td>42.50630</td>\n",
       "      <td>1.521800</td>\n",
       "      <td>1/22/20</td>\n",
       "      <td>0</td>\n",
       "    </tr>\n",
       "    <tr>\n",
       "      <th>4</th>\n",
       "      <td>NaN</td>\n",
       "      <td>Angola</td>\n",
       "      <td>-11.20270</td>\n",
       "      <td>17.873900</td>\n",
       "      <td>1/22/20</td>\n",
       "      <td>0</td>\n",
       "    </tr>\n",
       "  </tbody>\n",
       "</table>\n",
       "</div>"
      ],
      "text/plain": [
       "  Province/State Country/Region       Lat       Long     Date  Confirmed\n",
       "0            NaN    Afghanistan  33.93911  67.709953  1/22/20          0\n",
       "1            NaN        Albania  41.15330  20.168300  1/22/20          0\n",
       "2            NaN        Algeria  28.03390   1.659600  1/22/20          0\n",
       "3            NaN        Andorra  42.50630   1.521800  1/22/20          0\n",
       "4            NaN         Angola -11.20270  17.873900  1/22/20          0"
      ]
     },
     "execution_count": 5,
     "metadata": {},
     "output_type": "execute_result"
    }
   ],
   "source": [
    "time_series_long.head()"
   ]
  },
  {
   "cell_type": "code",
   "execution_count": 6,
   "metadata": {},
   "outputs": [
    {
     "name": "stdout",
     "output_type": "stream",
     "text": [
      "<class 'pandas.core.frame.DataFrame'>\n",
      "RangeIndex: 63308 entries, 0 to 63307\n",
      "Data columns (total 6 columns):\n",
      " #   Column          Non-Null Count  Dtype  \n",
      "---  ------          --------------  -----  \n",
      " 0   Province/State  19278 non-null  object \n",
      " 1   Country/Region  63308 non-null  object \n",
      " 2   Lat             63308 non-null  float64\n",
      " 3   Long            63308 non-null  float64\n",
      " 4   Date            63308 non-null  object \n",
      " 5   Confirmed       63308 non-null  int64  \n",
      "dtypes: float64(2), int64(1), object(3)\n",
      "memory usage: 2.9+ MB\n"
     ]
    }
   ],
   "source": [
    "time_series_long.info()"
   ]
  },
  {
   "cell_type": "markdown",
   "metadata": {},
   "source": [
    "## 轉換日期時間型態\n",
    "\n",
    "目前 `Date` 欄位是文字型態，在資料排序時不一定會依照日期的先後，因此我們使用 `pandas` 套件中的 `to_datetime()` 函式轉換為日期時間型態。"
   ]
  },
  {
   "cell_type": "code",
   "execution_count": 7,
   "metadata": {},
   "outputs": [
    {
     "data": {
      "text/html": [
       "<div>\n",
       "<style scoped>\n",
       "    .dataframe tbody tr th:only-of-type {\n",
       "        vertical-align: middle;\n",
       "    }\n",
       "\n",
       "    .dataframe tbody tr th {\n",
       "        vertical-align: top;\n",
       "    }\n",
       "\n",
       "    .dataframe thead th {\n",
       "        text-align: right;\n",
       "    }\n",
       "</style>\n",
       "<table border=\"1\" class=\"dataframe\">\n",
       "  <thead>\n",
       "    <tr style=\"text-align: right;\">\n",
       "      <th></th>\n",
       "      <th>Province/State</th>\n",
       "      <th>Country/Region</th>\n",
       "      <th>Lat</th>\n",
       "      <th>Long</th>\n",
       "      <th>Date</th>\n",
       "      <th>Confirmed</th>\n",
       "    </tr>\n",
       "  </thead>\n",
       "  <tbody>\n",
       "    <tr>\n",
       "      <th>0</th>\n",
       "      <td>NaN</td>\n",
       "      <td>Afghanistan</td>\n",
       "      <td>33.93911</td>\n",
       "      <td>67.709953</td>\n",
       "      <td>2020-01-22</td>\n",
       "      <td>0</td>\n",
       "    </tr>\n",
       "    <tr>\n",
       "      <th>1</th>\n",
       "      <td>NaN</td>\n",
       "      <td>Albania</td>\n",
       "      <td>41.15330</td>\n",
       "      <td>20.168300</td>\n",
       "      <td>2020-01-22</td>\n",
       "      <td>0</td>\n",
       "    </tr>\n",
       "    <tr>\n",
       "      <th>2</th>\n",
       "      <td>NaN</td>\n",
       "      <td>Algeria</td>\n",
       "      <td>28.03390</td>\n",
       "      <td>1.659600</td>\n",
       "      <td>2020-01-22</td>\n",
       "      <td>0</td>\n",
       "    </tr>\n",
       "    <tr>\n",
       "      <th>3</th>\n",
       "      <td>NaN</td>\n",
       "      <td>Andorra</td>\n",
       "      <td>42.50630</td>\n",
       "      <td>1.521800</td>\n",
       "      <td>2020-01-22</td>\n",
       "      <td>0</td>\n",
       "    </tr>\n",
       "    <tr>\n",
       "      <th>4</th>\n",
       "      <td>NaN</td>\n",
       "      <td>Angola</td>\n",
       "      <td>-11.20270</td>\n",
       "      <td>17.873900</td>\n",
       "      <td>2020-01-22</td>\n",
       "      <td>0</td>\n",
       "    </tr>\n",
       "  </tbody>\n",
       "</table>\n",
       "</div>"
      ],
      "text/plain": [
       "  Province/State Country/Region       Lat       Long       Date  Confirmed\n",
       "0            NaN    Afghanistan  33.93911  67.709953 2020-01-22          0\n",
       "1            NaN        Albania  41.15330  20.168300 2020-01-22          0\n",
       "2            NaN        Algeria  28.03390   1.659600 2020-01-22          0\n",
       "3            NaN        Andorra  42.50630   1.521800 2020-01-22          0\n",
       "4            NaN         Angola -11.20270  17.873900 2020-01-22          0"
      ]
     },
     "execution_count": 7,
     "metadata": {},
     "output_type": "execute_result"
    }
   ],
   "source": [
    "date = pd.to_datetime(time_series_long['Date'])\n",
    "time_series_long = time_series_long.drop('Date', axis=1)\n",
    "time_series_long.insert(4, 'Date', date)\n",
    "time_series_long.head()"
   ]
  },
  {
   "cell_type": "code",
   "execution_count": 8,
   "metadata": {},
   "outputs": [
    {
     "name": "stdout",
     "output_type": "stream",
     "text": [
      "<class 'pandas.core.frame.DataFrame'>\n",
      "RangeIndex: 63308 entries, 0 to 63307\n",
      "Data columns (total 6 columns):\n",
      " #   Column          Non-Null Count  Dtype         \n",
      "---  ------          --------------  -----         \n",
      " 0   Province/State  19278 non-null  object        \n",
      " 1   Country/Region  63308 non-null  object        \n",
      " 2   Lat             63308 non-null  float64       \n",
      " 3   Long            63308 non-null  float64       \n",
      " 4   Date            63308 non-null  datetime64[ns]\n",
      " 5   Confirmed       63308 non-null  int64         \n",
      "dtypes: datetime64[ns](1), float64(2), int64(1), object(2)\n",
      "memory usage: 2.9+ MB\n"
     ]
    }
   ],
   "source": [
    "time_series_long.info()"
   ]
  },
  {
   "cell_type": "markdown",
   "metadata": {},
   "source": [
    "## 計算每日新增確診數\n",
    "\n",
    "從約翰霍普金斯大學的 COVID-19 Data Repository 取得的時間序列資料 time_series_covid19_confirmed_global.csv 中記錄的是「累計確診數」，如果要求得每日新增確診數，必須將 `t+1` 日的累計確診數減去 `t` 日的累計確診數。使用 `numpy` 套件中的 `diff()` 函式可以完成這個計算，以台灣為例："
   ]
  },
  {
   "cell_type": "code",
   "execution_count": 9,
   "metadata": {},
   "outputs": [
    {
     "data": {
      "text/plain": [
       "array([ 0,  2,  0,  1,  1,  3,  0,  1,  1,  0,  0,  0,  1,  0,  5,  0,  1,\n",
       "        1,  0,  0,  0,  0,  0,  0,  2,  2,  0,  1,  1,  2,  0,  2,  2,  1,\n",
       "        1,  0,  2,  5,  1,  1,  1,  0,  2,  1,  0,  0,  0,  2,  1,  1,  1,\n",
       "        3,  6,  8, 10, 23,  8, 27, 18, 16, 26, 20, 20, 17, 15, 16, 15,  8,\n",
       "       16,  7, 10,  9,  7,  8, 10,  3,  3,  1,  2,  3,  3,  5,  0,  2,  0,\n",
       "        0,  3, 22,  2,  3,  1,  1,  1,  1,  0,  0,  0,  0,  0,  0,  3,  4,\n",
       "        2,  0,  1,  1,  0,  0,  0,  0,  0,  0,  0,  0,  0,  0,  0,  0,  0,\n",
       "        0,  1,  0,  0,  0,  0,  0,  0,  1,  0,  0,  1,  0,  0,  0,  0,  0,\n",
       "        0,  0,  0,  0,  0,  0,  0,  0,  2,  0,  0,  1,  0,  0,  0,  0,  0,\n",
       "        0,  1,  0,  0,  0,  0,  0,  0,  1,  1,  0,  0,  0,  0,  0,  0,  0,\n",
       "        2,  0,  0,  0,  0,  0,  0,  0,  0,  0,  0,  4,  0,  3,  0,  0,  4,\n",
       "        5,  0,  0,  0,  7,  1, -1,  2,  0,  1,  0,  2, -2,  0,  3,  1,  0,\n",
       "        0,  1,  2,  1,  1,  0,  0,  1,  0,  0,  0,  0,  0,  0,  0,  1,  0,\n",
       "        0,  0,  1,  0,  1,  2,  1,  1,  1,  0,  1,  2,  0,  0,  1,  0])"
      ]
     },
     "execution_count": 9,
     "metadata": {},
     "output_type": "execute_result"
    }
   ],
   "source": [
    "tw = time_series_long[time_series_long['Country/Region'] == 'Taiwan*']\n",
    "daily_increase = np.diff(tw['Confirmed'].values)\n",
    "daily_increase"
   ]
  },
  {
   "cell_type": "markdown",
   "metadata": {},
   "source": [
    "## 繪製累計確診數趨勢\n",
    "\n",
    "累計確診數趨勢圖是線圖，在 `pyplot` 套件中可以用 `plot()` 函式繪製，X 軸資料要傳入日期 `Date`，Y 軸資料要傳入累計確診數 `Confirmed`，以台灣為例："
   ]
  },
  {
   "cell_type": "code",
   "execution_count": 10,
   "metadata": {},
   "outputs": [
    {
     "data": {
      "image/png": "[encoded data removed]",
      "text/plain": [
       "<Figure size 1008x216 with 2 Axes>"
      ]
     },
     "metadata": {
      "needs_background": "light"
     },
     "output_type": "display_data"
    }
   ],
   "source": [
    "fig, axes = plt.subplots(1, 2, figsize=(14, 3))\n",
    "x = tw['Date'].values\n",
    "y = tw['Confirmed'].values\n",
    "axes[0].plot(x, y, label='Taiwan', color='red')\n",
    "axes[0].set_xlabel('Date')\n",
    "axes[0].set_title('Cumulative COVID-19 confirmed cases')\n",
    "axes[0].legend(loc='upper left')\n",
    "plt.show()"
   ]
  },
  {
   "cell_type": "markdown",
   "metadata": {},
   "source": [
    "## 繪製每日新增確診數\n",
    "\n",
    "累計確診數趨勢圖是長條圖，在 `pyplot` 套件中可以用 `bar()` 函式繪製，X 軸資料要傳入日期 `Date`，Y 軸資料要傳入每日新增確診數 `daily_increase`，以台灣為例："
   ]
  },
  {
   "cell_type": "code",
   "execution_count": 11,
   "metadata": {},
   "outputs": [
    {
     "data": {
      "image/png": "[encoded data removed]",
      "text/plain": [
       "<Figure size 1008x216 with 2 Axes>"
      ]
     },
     "metadata": {
      "needs_background": "light"
     },
     "output_type": "display_data"
    }
   ],
   "source": [
    "fig, axes = plt.subplots(1, 2, figsize=(14, 3))\n",
    "x = tw['Date'].values\n",
    "y = tw['Confirmed'].values\n",
    "axes[0].plot(x, y, label='Taiwan', color='red')\n",
    "axes[0].set_xlabel('Date')\n",
    "axes[0].set_title('Cumulative COVID-19 confirmed cases')\n",
    "axes[0].legend(loc='upper left')\n",
    "axes[1].bar(x[1:], daily_increase, label='Taiwan', color='darkorange') # 因為是每日新增，要扣除資料的第一天 2020-01-22\n",
    "axes[1].set_title('Daily COVID-19 confirmed cases')\n",
    "axes[1].set_xlabel('Date')\n",
    "axes[1].set_ylabel('Daily Increase')\n",
    "axes[1].set_ylim(0, None)\n",
    "axes[1].legend(loc='upper left')\n",
    "plt.show()"
   ]
  },
  {
   "cell_type": "markdown",
   "metadata": {},
   "source": [
    "## 自訂類別繪製指定國家的累計確診數趨勢與每日新增確診數\n",
    "\n",
    "寫一個類別 `Covid19TimeSeries` 把我們前面寫的程式碼包裝起來。"
   ]
  },
  {
   "cell_type": "code",
   "execution_count": 12,
   "metadata": {},
   "outputs": [],
   "source": [
    "class Covid19TimeSeries:\n",
    "    def get_ts_wide(self):\n",
    "        request_url = \"https://raw.githubusercontent.com/CSSEGISandData/COVID-19/master/csse_covid_19_data/csse_covid_19_time_series/time_series_covid19_confirmed_global.csv\"\n",
    "        time_series = pd.read_csv(request_url)\n",
    "        return time_series\n",
    "    def get_ts_long(self):\n",
    "        ts_wide = self.get_ts_wide()\n",
    "        id_cols = ts_wide.columns[:4]\n",
    "        time_series_long = pd.melt(ts_wide, id_vars=id_cols, var_name='Date', value_name='Confirmed')\n",
    "        date = pd.to_datetime(time_series_long['Date'])\n",
    "        time_series_long = time_series_long.drop('Date', axis=1)\n",
    "        time_series_long.insert(4, 'Date', date)\n",
    "        return time_series_long\n",
    "    def get_plot_data(self, country):\n",
    "        ts_long = self.get_ts_long()\n",
    "        country_df = ts_long[ts_long['Country/Region'] == country]\n",
    "        group_by_date = country_df.groupby('Date')['Confirmed'].sum()\n",
    "        date = group_by_date.index\n",
    "        cumulative_confirmed = group_by_date.values\n",
    "        daily_increase = np.diff(cumulative_confirmed)\n",
    "        return date, cumulative_confirmed, daily_increase\n",
    "    def show_plots(self, country):\n",
    "        date, cumulative_confirmed, daily_increase = self.get_plot_data(country)\n",
    "        fig, axes = plt.subplots(1, 2, figsize=(14, 3))\n",
    "        axes[0].plot(date, cumulative_confirmed, label=country, color='red')\n",
    "        axes[0].set_xlabel('Date')\n",
    "        axes[0].set_title('Cumulative COVID-19 confirmed cases')\n",
    "        axes[0].legend(loc='upper left')\n",
    "        axes[1].bar(date[1:], daily_increase, label=country, color='darkorange')\n",
    "        axes[1].set_title('Daily COVID-19 confirmed cases')\n",
    "        axes[1].set_xlabel('Date')\n",
    "        axes[1].set_ylabel('Daily Increase')\n",
    "        axes[1].set_ylim(0, None)\n",
    "        axes[1].legend(loc='upper left')\n",
    "        plt.show()"
   ]
  },
  {
   "cell_type": "code",
   "execution_count": 13,
   "metadata": {},
   "outputs": [
    {
     "data": {
      "image/png": "[encoded data removed]",
      "text/plain": [
       "<Figure size 1008x216 with 2 Axes>"
      ]
     },
     "metadata": {
      "needs_background": "light"
     },
     "output_type": "display_data"
    }
   ],
   "source": [
    "cts = Covid19TimeSeries()\n",
    "cts.show_plots('US')"
   ]
  },
  {
   "cell_type": "code",
   "execution_count": 14,
   "metadata": {},
   "outputs": [
    {
     "data": {
      "image/png": "[encoded data removed]",
      "text/plain": [
       "<Figure size 1008x216 with 2 Axes>"
      ]
     },
     "metadata": {},
     "output_type": "display_data"
    }
   ],
   "source": [
    "with plt.style.context('ggplot'):\n",
    "    cts.show_plots('India')"
   ]
  },
  {
   "cell_type": "code",
   "execution_count": 15,
   "metadata": {},
   "outputs": [
    {
     "data": {
      "image/png": "[encoded data removed]",
      "text/plain": [
       "<Figure size 1008x216 with 2 Axes>"
      ]
     },
     "metadata": {},
     "output_type": "display_data"
    }
   ],
   "source": [
    "with plt.style.context('ggplot'):\n",
    "    cts.show_plots('Brazil')"
   ]
  }
 ],
 "metadata": {
  "kernelspec": {
   "display_name": "Python Data Analysis",
   "language": "python",
   "name": "pyda"
  },
  "language_info": {
   "codemirror_mode": {
    "name": "ipython",
    "version": 3
   },
   "file_extension": ".py",
   "mimetype": "text/x-python",
   "name": "python",
   "nbconvert_exporter": "python",
   "pygments_lexer": "ipython3",
   "version": "3.6.8"
  }
 },
 "nbformat": 4,
 "nbformat_minor": 4
}
