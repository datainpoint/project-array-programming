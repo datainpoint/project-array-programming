{
 "cells": [
  {
   "cell_type": "markdown",
   "metadata": {},
   "source": [
    "# 冠狀病毒大流行\n",
    "\n",
    "> 寫一些 Python 程式擷取摘要冠狀病毒大流行現況的四個關鍵數字，並且像[維基百科](https://en.wikipedia.org/wiki/COVID-19_pandemic)一般地描述。\n",
    ">\n",
    "> 標籤：程式設計，獲取載入，摘要探索\n",
    "\n",
    "郭耀仁 <yaojenkuo@datainpoint.com>"
   ]
  },
  {
   "cell_type": "code",
   "execution_count": 1,
   "metadata": {},
   "outputs": [],
   "source": [
    "# 載入專案需要使用的套件\n",
    "import datetime\n",
    "import pandas as pd"
   ]
  },
  {
   "cell_type": "markdown",
   "metadata": {},
   "source": [
    "## TL; DR\n",
    "\n",
    "我們定義了一個函式 `get_latest_daily_report()` 將約翰霍普金斯大學 [COVID-19 Data Repository](https://github.com/CSSEGISandData/COVID-19) 中最新的每日報告載入成為資料框，並從資料框中將四個關鍵數字摘要出來，再使用 f-Strings 以及 `format()` 方法將大流行全球現況以維基百科頁面的格式印出為一段敘述文字。"
   ]
  },
  {
   "cell_type": "markdown",
   "metadata": {},
   "source": [
    "## 冠狀病毒大流行現況的四個關鍵數字\n",
    "\n",
    "冠狀病毒大流行是由嚴重急性呼吸系統綜合症冠狀病毒引起，疫情最早於 2019 年 12 月在中國武漢發現，俗稱武漢肺炎。世界衛生組織於 2020 年 3 月 11 日宣布為全球的大型流行病。從[維基百科](https://en.wikipedia.org/wiki/COVID-19_pandemic)看到這個描述現狀的段落文字：\n",
    "\n",
    "> As of 30 August 2020, more than **25 million** cases of COVID‑19 have been reported in more than **188** countries and territories, resulting in more than **843,000** deaths; more than **16.4 million** people have recovered.\n",
    "\n",
    "這段文字中我們可以觀察到其中有四個和冠狀病毒大流行現況的關鍵數字：\n",
    "\n",
    "- 全球總確診人數\n",
    "- 有確診案例的國家數\n",
    "- 全球總死亡人數\n",
    "- 全球總痊癒人數\n",
    "\n",
    "在這個專案中，我們打算寫一些 Python 程式擷取摘要冠狀病毒大流行現況的四個關鍵數字，並像維基百科一般地描述。\n",
    "\n",
    "## 資料來源\n",
    "\n",
    "資料來源是 [COVID-19 Data Repository by the Center for Systems Science and Engineering (CSSE) at Johns Hopkins University](https://github.com/CSSEGISandData/COVID-19) 中的每日報告資料夾 `/csse_covid_19_data/csse_covid_19_daily_reports`，該資料夾從 2020-01-22 開始每天都有一個單獨的 CSV 檔案記錄該日的全球現況。\n",
    "\n",
    "<img src=\"img/daily_report_folder.png\">"
   ]
  },
  {
   "cell_type": "markdown",
   "metadata": {},
   "source": [
    "## 載入最新的每日報告\n",
    "\n",
    "CSV 檔案的命名是以 `%m-%d-%Y` Unix 時間格式、俗稱的 `mm-dd-yyyy` 格式作為檔案名稱，如果希望載入最新的每日報告，我們可以用電腦的當天日期作為檔名，但是由於資料源更新時間、時區的差異，使用當天日期很有可能沒有對應的檔案，因此我們可以寫一段程式，他的處理邏輯是：\n",
    "\n",
    "1. 先以電腦的當天日期作為檔名是否可以載入成功\n",
    "2. 如果成功這段程式的任務就完成了\n",
    "3. 如果載入失敗產生錯誤訊息，就將當天日期減去 1，直到載入成功\n",
    "\n",
    "這段程式需要 Python 的標準套件 `datetime`、第三方套件 `pandas`、`try...except...` 語法以及 `while` 語法。其中 `datetime` 可以協助我們獲得電腦的當天日期、進行日期的運算以及調整日期的文字格式。"
   ]
  },
  {
   "cell_type": "code",
   "execution_count": 2,
   "metadata": {},
   "outputs": [
    {
     "name": "stdout",
     "output_type": "stream",
     "text": [
      "09-01-2020\n"
     ]
    }
   ],
   "source": [
    "latest_date = datetime.date.today()\n",
    "latest_date_fmt = latest_date.strftime('%m-%d-%Y')\n",
    "print(latest_date_fmt)"
   ]
  },
  {
   "cell_type": "markdown",
   "metadata": {},
   "source": [
    "第三方套件 `pandas` 可以協助我們將 CSV 檔案讀入成為方便摘要分析的 `DataFrame`，每日報告由於更新時間、時區差異的緣故，大概都會是昨天或者前天，因此如果貿然將當天日期作為檔名通常會獲得錯誤訊息。這時我們就可以利用 `try...except...` 將錯誤捕捉起來。"
   ]
  },
  {
   "cell_type": "code",
   "execution_count": 3,
   "metadata": {},
   "outputs": [
    {
     "name": "stdout",
     "output_type": "stream",
     "text": [
      "尚未有 09-01-2020 的每日報告。\n"
     ]
    }
   ],
   "source": [
    "csv_url = \"https://raw.githubusercontent.com/CSSEGISandData/COVID-19/master/csse_covid_19_data/csse_covid_19_daily_reports/{}.csv\".format(latest_date_fmt)\n",
    "try:\n",
    "    daily_report = pd.read_csv(csv_url)\n",
    "except:\n",
    "    print(\"尚未有 {} 的每日報告。\".format(latest_date_fmt))"
   ]
  },
  {
   "cell_type": "markdown",
   "metadata": {},
   "source": [
    "最後加入 `while` 語法，目的是只要錯誤被捕捉起來，就將當天日期減 1 成為再前一天日期，再嘗試一次載入，假若再有錯誤被捕捉，就持續減去 1 天，直到成功為止。"
   ]
  },
  {
   "cell_type": "code",
   "execution_count": 4,
   "metadata": {},
   "outputs": [
    {
     "name": "stdout",
     "output_type": "stream",
     "text": [
      "尚未有 09-01-2020 的每日報告。\n",
      "載入了 08-31-2020 的每日報告。\n"
     ]
    }
   ],
   "source": [
    "latest_date = datetime.date.today()\n",
    "day_delta = datetime.timedelta(days=1)\n",
    "fmt = '%m-%d-%Y'\n",
    "while True:\n",
    "    try:\n",
    "        latest_date_fmt = latest_date.strftime(fmt)\n",
    "        csv_url = \"https://raw.githubusercontent.com/CSSEGISandData/COVID-19/master/csse_covid_19_data/csse_covid_19_daily_reports/{}.csv\".format(latest_date_fmt)\n",
    "        daily_report = pd.read_csv(csv_url)\n",
    "        print(\"載入了 {} 的每日報告。\".format(latest_date_fmt))\n",
    "        break\n",
    "    except:\n",
    "        latest_date_fmt = latest_date.strftime(fmt)\n",
    "        print(\"尚未有 {} 的每日報告。\".format(latest_date_fmt))\n",
    "        latest_date -= day_delta"
   ]
  },
  {
   "cell_type": "markdown",
   "metadata": {},
   "source": [
    "## 將載入最新的每日報告包裝成函式\n",
    "\n",
    "將前面的程式包裝成函式，可以回傳最新每日報告以及檔案日期。"
   ]
  },
  {
   "cell_type": "code",
   "execution_count": 5,
   "metadata": {},
   "outputs": [],
   "source": [
    "def get_latest_daily_report():\n",
    "    \"\"\"\n",
    "    This function returns the latest global daily report from https://github.com/CSSEGISandData/COVID-19 and its file date.\n",
    "    \"\"\"\n",
    "    latest_date = datetime.date.today()\n",
    "    day_delta = datetime.timedelta(days=1)\n",
    "    fmt = '%m-%d-%Y'\n",
    "    while True:\n",
    "        try:\n",
    "            latest_date_fmt = latest_date.strftime(fmt)\n",
    "            csv_url = \"https://raw.githubusercontent.com/CSSEGISandData/COVID-19/master/csse_covid_19_data/csse_covid_19_daily_reports/{}.csv\".format(latest_date_fmt)\n",
    "            daily_report = pd.read_csv(csv_url)\n",
    "            print(\"載入了 {} 的每日報告。\".format(latest_date_fmt))\n",
    "            break\n",
    "        except:\n",
    "            latest_date_fmt = latest_date.strftime(fmt)\n",
    "            print(\"尚未有 {} 的每日報告。\".format(latest_date_fmt))\n",
    "            latest_date -= day_delta\n",
    "    return latest_date, daily_report"
   ]
  },
  {
   "cell_type": "code",
   "execution_count": 6,
   "metadata": {},
   "outputs": [
    {
     "name": "stdout",
     "output_type": "stream",
     "text": [
      "尚未有 09-01-2020 的每日報告。\n",
      "載入了 08-31-2020 的每日報告。\n"
     ]
    }
   ],
   "source": [
    "latest_date, daily_report = get_latest_daily_report()"
   ]
  },
  {
   "cell_type": "code",
   "execution_count": 7,
   "metadata": {},
   "outputs": [
    {
     "data": {
      "text/plain": [
       "(3954, 14)"
      ]
     },
     "execution_count": 7,
     "metadata": {},
     "output_type": "execute_result"
    }
   ],
   "source": [
    "daily_report.shape # 每日報告的外觀"
   ]
  },
  {
   "cell_type": "code",
   "execution_count": 8,
   "metadata": {},
   "outputs": [
    {
     "data": {
      "text/html": [
       "<div>\n",
       "<style scoped>\n",
       "    .dataframe tbody tr th:only-of-type {\n",
       "        vertical-align: middle;\n",
       "    }\n",
       "\n",
       "    .dataframe tbody tr th {\n",
       "        vertical-align: top;\n",
       "    }\n",
       "\n",
       "    .dataframe thead th {\n",
       "        text-align: right;\n",
       "    }\n",
       "</style>\n",
       "<table border=\"1\" class=\"dataframe\">\n",
       "  <thead>\n",
       "    <tr style=\"text-align: right;\">\n",
       "      <th></th>\n",
       "      <th>FIPS</th>\n",
       "      <th>Admin2</th>\n",
       "      <th>Province_State</th>\n",
       "      <th>Country_Region</th>\n",
       "      <th>Last_Update</th>\n",
       "      <th>Lat</th>\n",
       "      <th>Long_</th>\n",
       "      <th>Confirmed</th>\n",
       "      <th>Deaths</th>\n",
       "      <th>Recovered</th>\n",
       "      <th>Active</th>\n",
       "      <th>Combined_Key</th>\n",
       "      <th>Incidence_Rate</th>\n",
       "      <th>Case-Fatality_Ratio</th>\n",
       "    </tr>\n",
       "  </thead>\n",
       "  <tbody>\n",
       "    <tr>\n",
       "      <th>0</th>\n",
       "      <td>NaN</td>\n",
       "      <td>NaN</td>\n",
       "      <td>NaN</td>\n",
       "      <td>Afghanistan</td>\n",
       "      <td>2020-09-01 04:28:31</td>\n",
       "      <td>33.93911</td>\n",
       "      <td>67.709953</td>\n",
       "      <td>38165</td>\n",
       "      <td>1402</td>\n",
       "      <td>29089</td>\n",
       "      <td>7674.0</td>\n",
       "      <td>Afghanistan</td>\n",
       "      <td>98.039112</td>\n",
       "      <td>3.673523</td>\n",
       "    </tr>\n",
       "    <tr>\n",
       "      <th>1</th>\n",
       "      <td>NaN</td>\n",
       "      <td>NaN</td>\n",
       "      <td>NaN</td>\n",
       "      <td>Albania</td>\n",
       "      <td>2020-09-01 04:28:31</td>\n",
       "      <td>41.15330</td>\n",
       "      <td>20.168300</td>\n",
       "      <td>9513</td>\n",
       "      <td>284</td>\n",
       "      <td>5214</td>\n",
       "      <td>4015.0</td>\n",
       "      <td>Albania</td>\n",
       "      <td>330.565015</td>\n",
       "      <td>2.985388</td>\n",
       "    </tr>\n",
       "    <tr>\n",
       "      <th>2</th>\n",
       "      <td>NaN</td>\n",
       "      <td>NaN</td>\n",
       "      <td>NaN</td>\n",
       "      <td>Algeria</td>\n",
       "      <td>2020-09-01 04:28:31</td>\n",
       "      <td>28.03390</td>\n",
       "      <td>1.659600</td>\n",
       "      <td>44494</td>\n",
       "      <td>1510</td>\n",
       "      <td>31244</td>\n",
       "      <td>11740.0</td>\n",
       "      <td>Algeria</td>\n",
       "      <td>101.466230</td>\n",
       "      <td>3.393716</td>\n",
       "    </tr>\n",
       "    <tr>\n",
       "      <th>3</th>\n",
       "      <td>NaN</td>\n",
       "      <td>NaN</td>\n",
       "      <td>NaN</td>\n",
       "      <td>Andorra</td>\n",
       "      <td>2020-09-01 04:28:31</td>\n",
       "      <td>42.50630</td>\n",
       "      <td>1.521800</td>\n",
       "      <td>1176</td>\n",
       "      <td>53</td>\n",
       "      <td>908</td>\n",
       "      <td>215.0</td>\n",
       "      <td>Andorra</td>\n",
       "      <td>1522.034556</td>\n",
       "      <td>4.506803</td>\n",
       "    </tr>\n",
       "    <tr>\n",
       "      <th>4</th>\n",
       "      <td>NaN</td>\n",
       "      <td>NaN</td>\n",
       "      <td>NaN</td>\n",
       "      <td>Angola</td>\n",
       "      <td>2020-09-01 04:28:31</td>\n",
       "      <td>-11.20270</td>\n",
       "      <td>17.873900</td>\n",
       "      <td>2654</td>\n",
       "      <td>108</td>\n",
       "      <td>1071</td>\n",
       "      <td>1475.0</td>\n",
       "      <td>Angola</td>\n",
       "      <td>8.075149</td>\n",
       "      <td>4.069329</td>\n",
       "    </tr>\n",
       "  </tbody>\n",
       "</table>\n",
       "</div>"
      ],
      "text/plain": [
       "   FIPS Admin2 Province_State Country_Region          Last_Update       Lat  \\\n",
       "0   NaN    NaN            NaN    Afghanistan  2020-09-01 04:28:31  33.93911   \n",
       "1   NaN    NaN            NaN        Albania  2020-09-01 04:28:31  41.15330   \n",
       "2   NaN    NaN            NaN        Algeria  2020-09-01 04:28:31  28.03390   \n",
       "3   NaN    NaN            NaN        Andorra  2020-09-01 04:28:31  42.50630   \n",
       "4   NaN    NaN            NaN         Angola  2020-09-01 04:28:31 -11.20270   \n",
       "\n",
       "       Long_  Confirmed  Deaths  Recovered   Active Combined_Key  \\\n",
       "0  67.709953      38165    1402      29089   7674.0  Afghanistan   \n",
       "1  20.168300       9513     284       5214   4015.0      Albania   \n",
       "2   1.659600      44494    1510      31244  11740.0      Algeria   \n",
       "3   1.521800       1176      53        908    215.0      Andorra   \n",
       "4  17.873900       2654     108       1071   1475.0       Angola   \n",
       "\n",
       "   Incidence_Rate  Case-Fatality_Ratio  \n",
       "0       98.039112             3.673523  \n",
       "1      330.565015             2.985388  \n",
       "2      101.466230             3.393716  \n",
       "3     1522.034556             4.506803  \n",
       "4        8.075149             4.069329  "
      ]
     },
     "execution_count": 8,
     "metadata": {},
     "output_type": "execute_result"
    }
   ],
   "source": [
    "daily_report.head() # 每日報告的前五列"
   ]
  },
  {
   "cell_type": "markdown",
   "metadata": {},
   "source": [
    "## 摘要四個關鍵數字\n",
    "\n",
    "成功載入最新的每日報告以後，首先可以對 `DataFrame` 中的 `Confirmed`、`Deaths` 與 `Recovered` 變數使用 `sum()` 方法獲取全球總確診人數、全球總死亡人數與全球總痊癒人數。"
   ]
  },
  {
   "cell_type": "code",
   "execution_count": 9,
   "metadata": {},
   "outputs": [
    {
     "name": "stdout",
     "output_type": "stream",
     "text": [
      "25484767\n",
      "850535\n",
      "16819592\n"
     ]
    }
   ],
   "source": [
    "global_confirmed = daily_report['Confirmed'].sum()\n",
    "global_deaths = daily_report['Deaths'].sum()\n",
    "global_recovered = daily_report['Recovered'].sum()\n",
    "print(global_confirmed)\n",
    "print(global_deaths)\n",
    "print(global_recovered)"
   ]
  },
  {
   "cell_type": "markdown",
   "metadata": {},
   "source": [
    "最後是對 `Country_Region` 變數使用 `nunique()` 方法獲取有確診案例的國家數。"
   ]
  },
  {
   "cell_type": "code",
   "execution_count": 10,
   "metadata": {},
   "outputs": [
    {
     "name": "stdout",
     "output_type": "stream",
     "text": [
      "188\n"
     ]
    }
   ],
   "source": [
    "n_countries_reported = daily_report['Country_Region'].nunique()\n",
    "print(n_countries_reported)"
   ]
  },
  {
   "cell_type": "markdown",
   "metadata": {},
   "source": [
    "## 像[維基百科](https://en.wikipedia.org/wiki/COVID-19_pandemic)一般地描述\n",
    "\n",
    "最後我們可以運用將物件內容值嵌入文字的技巧，將最新的每日報告日期與四個關鍵數字放置到[維基百科](https://en.wikipedia.org/wiki/COVID-19_pandemic)的敘述之中，首先利用 `{}` 在文字敘述中空出五個位置。"
   ]
  },
  {
   "cell_type": "code",
   "execution_count": 11,
   "metadata": {},
   "outputs": [
    {
     "data": {
      "text/plain": [
       "'As of {}, more than {} cases of COVID‑19 have been reported in more than {} countries and territories, resulting in more than {} deaths; more than {} people have recovered.'"
      ]
     },
     "execution_count": 11,
     "metadata": {},
     "output_type": "execute_result"
    }
   ],
   "source": [
    "\"\"\"As of {}, more than {} cases of COVID‑19 have been reported in more than {} countries and territories, resulting in more than {} deaths; more than {} people have recovered.\"\"\""
   ]
  },
  {
   "cell_type": "markdown",
   "metadata": {},
   "source": [
    "接著可以使用文字嵌入技巧在這四個 `{}` 分別對應放置已經算好的關鍵數字物件名稱，在 Python 3.6+ 主流作法有兩個：f-Strings 以及 `format()` 方法，首先是 f-strings 的寫法。"
   ]
  },
  {
   "cell_type": "code",
   "execution_count": 12,
   "metadata": {},
   "outputs": [
    {
     "name": "stdout",
     "output_type": "stream",
     "text": [
      "As of 2020-08-31, more than 25484767 cases of COVID‑19 have been reported in more than 188 countries and territories, resulting in more than 850535 deaths; more than 16819592 people have recovered.\n"
     ]
    }
   ],
   "source": [
    "pandemic_status = f\"\"\"As of {latest_date}, more than {global_confirmed} cases of COVID‑19 have been reported in more than {n_countries_reported} countries and territories, resulting in more than {global_deaths} deaths; more than {global_recovered} people have recovered.\"\"\"\n",
    "print(pandemic_status)"
   ]
  },
  {
   "cell_type": "markdown",
   "metadata": {},
   "source": [
    "然後是 `format()` 的寫法。"
   ]
  },
  {
   "cell_type": "code",
   "execution_count": 13,
   "metadata": {},
   "outputs": [
    {
     "name": "stdout",
     "output_type": "stream",
     "text": [
      "As of 2020-08-31, more than 25484767 cases of COVID‑19 have been reported in more than 188 countries and territories, resulting in more than 850535 deaths; more than 16819592 people have recovered.\n"
     ]
    }
   ],
   "source": [
    "pandemic_status = \"\"\"As of {}, more than {} cases of COVID‑19 have been reported in more than {} countries and territories, resulting in more than {} deaths; more than {} people have recovered.\"\"\"\n",
    "print(pandemic_status.format(latest_date, global_confirmed, n_countries_reported, global_deaths, global_recovered))"
   ]
  },
  {
   "cell_type": "markdown",
   "metadata": {},
   "source": [
    "## 調整顯示的格式\n",
    "\n",
    "不論是 f-Strings 或者 `format()` 方法都支援物件在文字中顯示格式的調整，亦即在不更動物件儲存內容的情況下改變印出的外觀。如此一來我們就可以將日期格調整成月份的名稱、在大的數字中加入千分位逗號。"
   ]
  },
  {
   "cell_type": "code",
   "execution_count": 14,
   "metadata": {},
   "outputs": [
    {
     "name": "stdout",
     "output_type": "stream",
     "text": [
      "As of 31 Aug 2020, more than 25,484,767 cases of COVID‑19 have been reported in more than 188 countries and territories, resulting in more than 850,535 deaths; more than 16,819,592 people have recovered.\n"
     ]
    }
   ],
   "source": [
    "pandemic_status = f\"\"\"As of {latest_date:%d %b %Y}, more than {global_confirmed:,} cases of COVID‑19 have been reported in more than {n_countries_reported} countries and territories, resulting in more than {global_deaths:,} deaths; more than {global_recovered:,} people have recovered.\"\"\"\n",
    "print(pandemic_status)"
   ]
  },
  {
   "cell_type": "code",
   "execution_count": 15,
   "metadata": {},
   "outputs": [
    {
     "name": "stdout",
     "output_type": "stream",
     "text": [
      "As of 31 Aug 2020, more than 25,484,767 cases of COVID‑19 have been reported in more than 188 countries and territories, resulting in more than 850,535 deaths; more than 16,819,592 people have recovered.\n"
     ]
    }
   ],
   "source": [
    "pandemic_status = \"\"\"As of {:%d %b %Y}, more than {:,} cases of COVID‑19 have been reported in more than {} countries and territories, resulting in more than {:,} deaths; more than {:,} people have recovered.\"\"\"\n",
    "print(pandemic_status.format(latest_date, global_confirmed, n_countries_reported, global_deaths, global_recovered))"
   ]
  }
 ],
 "metadata": {
  "kernelspec": {
   "display_name": "Python Data Analysis",
   "language": "python",
   "name": "pyda"
  },
  "language_info": {
   "codemirror_mode": {
    "name": "ipython",
    "version": 3
   },
   "file_extension": ".py",
   "mimetype": "text/x-python",
   "name": "python",
   "nbconvert_exporter": "python",
   "pygments_lexer": "ipython3",
   "version": "3.6.8"
  }
 },
 "nbformat": 4,
 "nbformat_minor": 4
}
