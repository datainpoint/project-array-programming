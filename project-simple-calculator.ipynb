{
 "cells": [
  {
   "cell_type": "markdown",
   "metadata": {},
   "source": [
    "# 寫一個類別入門物件導向\n",
    "\n",
    "> 使用 Python 定義一個 SimpleCalculator 類別。\n",
    ">\n",
    "> 標籤：程式設計\n",
    "\n",
    "郭耀仁 <yaojenkuo@datainpoint.com> from [DATAINPOINT](https://datainpoint.substack.com/welcome)"
   ]
  },
  {
   "cell_type": "markdown",
   "metadata": {},
   "source": [
    "## TL; DR\n",
    "\n",
    "在這個專案中，我們打算使用 Python 自訂一個 `SimpleCalculator` 類別；這個類別將具有四個方法：兩數相加、兩數相減、兩數相乘以及兩數相除。透過這個專案，我們能夠暸解如何將四個方法綁定在一個類別之中。"
   ]
  },
  {
   "cell_type": "markdown",
   "metadata": {},
   "source": [
    "## 保留字 `class` \n",
    "\n",
    "我們可以使用 Python 的保留字 `class` 定義一個類別，與自訂函式相似的地方是同樣可以用一個長字串加入說明文件（docstring）。"
   ]
  },
  {
   "cell_type": "code",
   "execution_count": 1,
   "metadata": {},
   "outputs": [],
   "source": [
    "class SimpleCalculator:\n",
    "    \"\"\"\n",
    "    This class can create an object with four methods: add, subtract, multiply, and divide.\n",
    "    \"\"\"\n",
    "    pass"
   ]
  },
  {
   "cell_type": "markdown",
   "metadata": {},
   "source": [
    "即便程式區塊中只有 `pass`，但是 `SimpleCalculator` 類別已經被定義妥當，被封裝在 `__main__` 這個模組之中，並且具有 `__doc__` 這個內建屬性，儲存了說明文件。"
   ]
  },
  {
   "cell_type": "code",
   "execution_count": 2,
   "metadata": {},
   "outputs": [
    {
     "name": "stdout",
     "output_type": "stream",
     "text": [
      "<class '__main__.SimpleCalculator'>\n",
      "\n",
      "    This class can create an object with four methods: add, subtract, multiply, and divide.\n",
      "    \n"
     ]
    }
   ],
   "source": [
    "simple_calculator = SimpleCalculator()\n",
    "print(type(simple_calculator))\n",
    "print(simple_calculator.__doc__)"
   ]
  },
  {
   "cell_type": "markdown",
   "metadata": {},
   "source": [
    "## 使用保留字 `def` 定義第一個方法 `add()`\n",
    "\n",
    "在程式區塊中使用保留字 `def` 定義一個方法 `add()` 來進行兩數相加的運算，在這裡要先想像一下未來在使用這個物件時候，會是什麼樣的一個光景：\n",
    "\n",
    "```python\n",
    "simple_calculator = SimpleCalculator()\n",
    "simple_calculator.add('55', '66')\n",
    "```\n",
    "\n",
    "我們會使用 `物件名.方法名()` 這樣的語法來呼叫 `add()` 方法，因此在定義的時候需要加入 `self` 作為物件名的代稱（畢竟我們不會知道未來依照類別所建立的物件名為何。）"
   ]
  },
  {
   "cell_type": "code",
   "execution_count": 3,
   "metadata": {},
   "outputs": [
    {
     "data": {
      "text/plain": [
       "'5566'"
      ]
     },
     "execution_count": 3,
     "metadata": {},
     "output_type": "execute_result"
    }
   ],
   "source": [
    "class SimpleCalculator:\n",
    "    \"\"\"\n",
    "    This class can create an object with four methods: add, subtract, multiply, and divide.\n",
    "    \"\"\"\n",
    "    def add(self, a, b):\n",
    "        return a + b\n",
    "\n",
    "simple_calculator = SimpleCalculator()\n",
    "simple_calculator.add('55', '66')"
   ]
  },
  {
   "cell_type": "markdown",
   "metadata": {},
   "source": [
    "## 使用保留字 `def` 定義剩餘的三個方法\n",
    "\n",
    "接著依樣畫葫蘆將剩餘的三個方法 `subtract()`、`multiply()` 與 `divide()` 完成。 "
   ]
  },
  {
   "cell_type": "code",
   "execution_count": 4,
   "metadata": {},
   "outputs": [
    {
     "data": {
      "text/plain": [
       "'5566'"
      ]
     },
     "execution_count": 4,
     "metadata": {},
     "output_type": "execute_result"
    }
   ],
   "source": [
    "class SimpleCalculator:\n",
    "    \"\"\"\n",
    "    This class can create an object with four methods: add, subtract, multiply, and divide.\n",
    "    \"\"\"\n",
    "    def add(self, a, b):\n",
    "        return a + b\n",
    "    def subtract(self, a, b):\n",
    "        return a - b\n",
    "    def multiply(self, a, b):\n",
    "        return a * b\n",
    "    def divide(self, a, b):\n",
    "        return a / b\n",
    "\n",
    "simple_calculator = SimpleCalculator()\n",
    "simple_calculator.add('55', '66')"
   ]
  },
  {
   "cell_type": "code",
   "execution_count": 5,
   "metadata": {},
   "outputs": [
    {
     "data": {
      "text/plain": [
       "-11"
      ]
     },
     "execution_count": 5,
     "metadata": {},
     "output_type": "execute_result"
    }
   ],
   "source": [
    "simple_calculator.subtract(55, 66)"
   ]
  },
  {
   "cell_type": "code",
   "execution_count": 6,
   "metadata": {},
   "outputs": [
    {
     "data": {
      "text/plain": [
       "3630"
      ]
     },
     "execution_count": 6,
     "metadata": {},
     "output_type": "execute_result"
    }
   ],
   "source": [
    "simple_calculator.multiply(55, 66)"
   ]
  },
  {
   "cell_type": "code",
   "execution_count": 7,
   "metadata": {},
   "outputs": [
    {
     "data": {
      "text/plain": [
       "0.8333333333333334"
      ]
     },
     "execution_count": 7,
     "metadata": {},
     "output_type": "execute_result"
    }
   ],
   "source": [
    "simple_calculator.divide(55, 66)"
   ]
  }
 ],
 "metadata": {
  "kernelspec": {
   "display_name": "Python Data Analysis",
   "language": "python",
   "name": "pyda"
  },
  "language_info": {
   "codemirror_mode": {
    "name": "ipython",
    "version": 3
   },
   "file_extension": ".py",
   "mimetype": "text/x-python",
   "name": "python",
   "nbconvert_exporter": "python",
   "pygments_lexer": "ipython3",
   "version": "3.6.8"
  }
 },
 "nbformat": 4,
 "nbformat_minor": 4
}
