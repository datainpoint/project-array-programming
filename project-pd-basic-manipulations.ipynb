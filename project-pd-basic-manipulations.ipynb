{
 "cells": [
  {
   "cell_type": "markdown",
   "metadata": {},
   "source": [
    "# 如何對資料框進行基礎操作\n",
    "\n",
    "> 寫一些 pandas 語法操作 Johns Hopkins COVID-19 每日報告\n",
    ">\n",
    "> 標籤：程式設計，獲取載入，整併轉換\n",
    "\n",
    "郭耀仁 <yaojenkuo@datainpoint.com>"
   ]
  },
  {
   "cell_type": "code",
   "execution_count": 1,
   "metadata": {},
   "outputs": [],
   "source": [
    "# 載入專案需要使用的套件\n",
    "import datetime\n",
    "import pandas as pd"
   ]
  },
  {
   "cell_type": "markdown",
   "metadata": {},
   "source": [
    "## TL; DR\n",
    "\n",
    "在這個專案中，我們打算寫一些 pandas 語法操作約翰霍普金斯大學 COVID-19 Data Repository 中最新的每日報告，讀者將學會如何定義函式 `get_latest_daily_report()` 將約翰霍普金斯大學 COVID-19 Data Repository 中最新的每日報告載入成為資料框、如何衍生新的欄位（衍生治療中案例數）、選擇特定欄位（選擇一個或多個）、篩選指定觀測值（台灣在哪裡）、分組摘要（以國家為單位聚合確診數）以及排序（將摘要結果由大到小遞減排序）。"
   ]
  },
  {
   "cell_type": "markdown",
   "metadata": {},
   "source": [
    "## 資料來源\n",
    "\n",
    "資料來源是 [COVID-19 Data Repository by the Center for Systems Science and Engineering (CSSE) at Johns Hopkins University](https://github.com/CSSEGISandData/COVID-19) 中的每日報告資料夾 `/csse_covid_19_data/csse_covid_19_daily_reports`，該資料夾從 2020-01-22 開始每天都有一個單獨的 CSV 檔案記錄該日的全球現況。\n",
    "\n",
    "<img src=\"img/daily_report_folder.png\">"
   ]
  },
  {
   "cell_type": "markdown",
   "metadata": {},
   "source": [
    "## 載入最新的每日報告\n",
    "\n",
    "CSV 檔案的命名是以 `%m-%d-%Y` Unix 時間格式、俗稱的 `mm-dd-yyyy` 格式作為檔案名稱，如果希望載入最新的每日報告，我們可以用電腦的當天日期作為檔名，但是由於資料源更新時間、時區的差異，使用當天日期很有可能沒有對應的檔案，因此我們可以寫一段程式，他的處理邏輯是：\n",
    "\n",
    "1. 先以電腦的當天日期作為檔名是否可以載入成功\n",
    "2. 如果成功這段程式的任務就完成了\n",
    "3. 如果載入失敗產生錯誤訊息，就將當天日期減去 1，直到載入成功\n",
    "\n",
    "這段程式需要 Python 的標準套件 `datetime`、第三方套件 `pandas`、`try...except...` 語法以及 `while` 語法。其中 `datetime` 可以協助我們獲得電腦的當天日期、進行日期的運算以及調整日期的文字格式。"
   ]
  },
  {
   "cell_type": "code",
   "execution_count": 2,
   "metadata": {},
   "outputs": [
    {
     "name": "stdout",
     "output_type": "stream",
     "text": [
      "09-06-2020\n"
     ]
    }
   ],
   "source": [
    "latest_date = datetime.date.today()\n",
    "latest_date_fmt = latest_date.strftime('%m-%d-%Y')\n",
    "print(latest_date_fmt)"
   ]
  },
  {
   "cell_type": "markdown",
   "metadata": {},
   "source": [
    "第三方套件 `pandas` 可以協助我們將 CSV 檔案讀入成為方便摘要分析的 `DataFrame`，每日報告由於更新時間、時區差異的緣故，大概都會是昨天或者前天，因此如果貿然將當天日期作為檔名通常會獲得錯誤訊息。這時我們就可以利用 `try...except...` 將錯誤捕捉起來。"
   ]
  },
  {
   "cell_type": "code",
   "execution_count": 3,
   "metadata": {},
   "outputs": [
    {
     "name": "stdout",
     "output_type": "stream",
     "text": [
      "尚未有 09-06-2020 的每日報告。\n"
     ]
    }
   ],
   "source": [
    "csv_url = \"https://raw.githubusercontent.com/CSSEGISandData/COVID-19/master/csse_covid_19_data/csse_covid_19_daily_reports/{}.csv\".format(latest_date_fmt)\n",
    "try:\n",
    "    daily_report = pd.read_csv(csv_url)\n",
    "except:\n",
    "    print(\"尚未有 {} 的每日報告。\".format(latest_date_fmt))"
   ]
  },
  {
   "cell_type": "markdown",
   "metadata": {},
   "source": [
    "最後加入 `while` 語法，目的是只要錯誤被捕捉起來，就將當天日期減 1 成為再前一天日期，再嘗試一次載入，假若再有錯誤被捕捉，就持續減去 1 天，直到成功為止。"
   ]
  },
  {
   "cell_type": "code",
   "execution_count": 4,
   "metadata": {},
   "outputs": [
    {
     "name": "stdout",
     "output_type": "stream",
     "text": [
      "尚未有 09-06-2020 的每日報告。\n",
      "載入了 09-05-2020 的每日報告。\n"
     ]
    }
   ],
   "source": [
    "latest_date = datetime.date.today()\n",
    "day_delta = datetime.timedelta(days=1)\n",
    "fmt = '%m-%d-%Y'\n",
    "while True:\n",
    "    try:\n",
    "        latest_date_fmt = latest_date.strftime(fmt)\n",
    "        csv_url = \"https://raw.githubusercontent.com/CSSEGISandData/COVID-19/master/csse_covid_19_data/csse_covid_19_daily_reports/{}.csv\".format(latest_date_fmt)\n",
    "        daily_report = pd.read_csv(csv_url)\n",
    "        print(\"載入了 {} 的每日報告。\".format(latest_date_fmt))\n",
    "        break\n",
    "    except:\n",
    "        latest_date_fmt = latest_date.strftime(fmt)\n",
    "        print(\"尚未有 {} 的每日報告。\".format(latest_date_fmt))\n",
    "        latest_date -= day_delta"
   ]
  },
  {
   "cell_type": "markdown",
   "metadata": {},
   "source": [
    "## 將載入最新的每日報告包裝成函式\n",
    "\n",
    "將前面的程式包裝成函式，可以回傳最新每日報告以及檔案日期。"
   ]
  },
  {
   "cell_type": "code",
   "execution_count": 5,
   "metadata": {},
   "outputs": [],
   "source": [
    "def get_latest_daily_report():\n",
    "    \"\"\"\n",
    "    This function returns the latest global daily report from https://github.com/CSSEGISandData/COVID-19 and its file date.\n",
    "    \"\"\"\n",
    "    latest_date = datetime.date.today()\n",
    "    day_delta = datetime.timedelta(days=1)\n",
    "    fmt = '%m-%d-%Y'\n",
    "    while True:\n",
    "        try:\n",
    "            latest_date_fmt = latest_date.strftime(fmt)\n",
    "            csv_url = \"https://raw.githubusercontent.com/CSSEGISandData/COVID-19/master/csse_covid_19_data/csse_covid_19_daily_reports/{}.csv\".format(latest_date_fmt)\n",
    "            daily_report = pd.read_csv(csv_url)\n",
    "            print(\"載入了 {} 的每日報告。\".format(latest_date_fmt))\n",
    "            break\n",
    "        except:\n",
    "            latest_date_fmt = latest_date.strftime(fmt)\n",
    "            print(\"尚未有 {} 的每日報告。\".format(latest_date_fmt))\n",
    "            latest_date -= day_delta\n",
    "    return latest_date, daily_report"
   ]
  },
  {
   "cell_type": "code",
   "execution_count": 6,
   "metadata": {},
   "outputs": [
    {
     "name": "stdout",
     "output_type": "stream",
     "text": [
      "尚未有 09-06-2020 的每日報告。\n",
      "載入了 09-05-2020 的每日報告。\n"
     ]
    }
   ],
   "source": [
    "latest_date, daily_report = get_latest_daily_report()"
   ]
  },
  {
   "cell_type": "code",
   "execution_count": 7,
   "metadata": {},
   "outputs": [
    {
     "data": {
      "text/plain": [
       "(3954, 14)"
      ]
     },
     "execution_count": 7,
     "metadata": {},
     "output_type": "execute_result"
    }
   ],
   "source": [
    "daily_report.shape # 每日報告的外觀"
   ]
  },
  {
   "cell_type": "code",
   "execution_count": 8,
   "metadata": {},
   "outputs": [
    {
     "data": {
      "text/html": [
       "<div>\n",
       "<style scoped>\n",
       "    .dataframe tbody tr th:only-of-type {\n",
       "        vertical-align: middle;\n",
       "    }\n",
       "\n",
       "    .dataframe tbody tr th {\n",
       "        vertical-align: top;\n",
       "    }\n",
       "\n",
       "    .dataframe thead th {\n",
       "        text-align: right;\n",
       "    }\n",
       "</style>\n",
       "<table border=\"1\" class=\"dataframe\">\n",
       "  <thead>\n",
       "    <tr style=\"text-align: right;\">\n",
       "      <th></th>\n",
       "      <th>FIPS</th>\n",
       "      <th>Admin2</th>\n",
       "      <th>Province_State</th>\n",
       "      <th>Country_Region</th>\n",
       "      <th>Last_Update</th>\n",
       "      <th>Lat</th>\n",
       "      <th>Long_</th>\n",
       "      <th>Confirmed</th>\n",
       "      <th>Deaths</th>\n",
       "      <th>Recovered</th>\n",
       "      <th>Active</th>\n",
       "      <th>Combined_Key</th>\n",
       "      <th>Incidence_Rate</th>\n",
       "      <th>Case-Fatality_Ratio</th>\n",
       "    </tr>\n",
       "  </thead>\n",
       "  <tbody>\n",
       "    <tr>\n",
       "      <th>0</th>\n",
       "      <td>NaN</td>\n",
       "      <td>NaN</td>\n",
       "      <td>NaN</td>\n",
       "      <td>Afghanistan</td>\n",
       "      <td>2020-09-06 04:28:33</td>\n",
       "      <td>33.93911</td>\n",
       "      <td>67.709953</td>\n",
       "      <td>38324</td>\n",
       "      <td>1409</td>\n",
       "      <td>30082</td>\n",
       "      <td>6833.0</td>\n",
       "      <td>Afghanistan</td>\n",
       "      <td>98.447555</td>\n",
       "      <td>3.676547</td>\n",
       "    </tr>\n",
       "    <tr>\n",
       "      <th>1</th>\n",
       "      <td>NaN</td>\n",
       "      <td>NaN</td>\n",
       "      <td>NaN</td>\n",
       "      <td>Albania</td>\n",
       "      <td>2020-09-06 04:28:33</td>\n",
       "      <td>41.15330</td>\n",
       "      <td>20.168300</td>\n",
       "      <td>10102</td>\n",
       "      <td>312</td>\n",
       "      <td>5976</td>\n",
       "      <td>3814.0</td>\n",
       "      <td>Albania</td>\n",
       "      <td>351.032038</td>\n",
       "      <td>3.088497</td>\n",
       "    </tr>\n",
       "    <tr>\n",
       "      <th>2</th>\n",
       "      <td>NaN</td>\n",
       "      <td>NaN</td>\n",
       "      <td>NaN</td>\n",
       "      <td>Algeria</td>\n",
       "      <td>2020-09-06 04:28:33</td>\n",
       "      <td>28.03390</td>\n",
       "      <td>1.659600</td>\n",
       "      <td>46071</td>\n",
       "      <td>1549</td>\n",
       "      <td>32481</td>\n",
       "      <td>12041.0</td>\n",
       "      <td>Algeria</td>\n",
       "      <td>105.062495</td>\n",
       "      <td>3.362202</td>\n",
       "    </tr>\n",
       "    <tr>\n",
       "      <th>3</th>\n",
       "      <td>NaN</td>\n",
       "      <td>NaN</td>\n",
       "      <td>NaN</td>\n",
       "      <td>Andorra</td>\n",
       "      <td>2020-09-06 04:28:33</td>\n",
       "      <td>42.50630</td>\n",
       "      <td>1.521800</td>\n",
       "      <td>1215</td>\n",
       "      <td>53</td>\n",
       "      <td>928</td>\n",
       "      <td>234.0</td>\n",
       "      <td>Andorra</td>\n",
       "      <td>1572.510192</td>\n",
       "      <td>4.362140</td>\n",
       "    </tr>\n",
       "    <tr>\n",
       "      <th>4</th>\n",
       "      <td>NaN</td>\n",
       "      <td>NaN</td>\n",
       "      <td>NaN</td>\n",
       "      <td>Angola</td>\n",
       "      <td>2020-09-06 04:28:33</td>\n",
       "      <td>-11.20270</td>\n",
       "      <td>17.873900</td>\n",
       "      <td>2935</td>\n",
       "      <td>117</td>\n",
       "      <td>1192</td>\n",
       "      <td>1626.0</td>\n",
       "      <td>Angola</td>\n",
       "      <td>8.930129</td>\n",
       "      <td>3.986371</td>\n",
       "    </tr>\n",
       "  </tbody>\n",
       "</table>\n",
       "</div>"
      ],
      "text/plain": [
       "   FIPS Admin2 Province_State Country_Region          Last_Update       Lat  \\\n",
       "0   NaN    NaN            NaN    Afghanistan  2020-09-06 04:28:33  33.93911   \n",
       "1   NaN    NaN            NaN        Albania  2020-09-06 04:28:33  41.15330   \n",
       "2   NaN    NaN            NaN        Algeria  2020-09-06 04:28:33  28.03390   \n",
       "3   NaN    NaN            NaN        Andorra  2020-09-06 04:28:33  42.50630   \n",
       "4   NaN    NaN            NaN         Angola  2020-09-06 04:28:33 -11.20270   \n",
       "\n",
       "       Long_  Confirmed  Deaths  Recovered   Active Combined_Key  \\\n",
       "0  67.709953      38324    1409      30082   6833.0  Afghanistan   \n",
       "1  20.168300      10102     312       5976   3814.0      Albania   \n",
       "2   1.659600      46071    1549      32481  12041.0      Algeria   \n",
       "3   1.521800       1215      53        928    234.0      Andorra   \n",
       "4  17.873900       2935     117       1192   1626.0       Angola   \n",
       "\n",
       "   Incidence_Rate  Case-Fatality_Ratio  \n",
       "0       98.447555             3.676547  \n",
       "1      351.032038             3.088497  \n",
       "2      105.062495             3.362202  \n",
       "3     1572.510192             4.362140  \n",
       "4        8.930129             3.986371  "
      ]
     },
     "execution_count": 8,
     "metadata": {},
     "output_type": "execute_result"
    }
   ],
   "source": [
    "daily_report.head() # 每日報告的前五列"
   ]
  },
  {
   "cell_type": "markdown",
   "metadata": {},
   "source": [
    "## 衍生新的欄位\n",
    "\n",
    "治療中案例數可以用既有的欄位計算而得，常見的定義為：確診數減去死亡數再減痊癒數。\n",
    "\n",
    "\\begin{equation}\n",
    "\\text{Active} = \\text{Confirmed} - \\text{Deaths} - \\text{Recovered}\n",
    "\\end{equation}"
   ]
  },
  {
   "cell_type": "code",
   "execution_count": 9,
   "metadata": {},
   "outputs": [
    {
     "data": {
      "text/plain": [
       "0        6833\n",
       "1        3814\n",
       "2       12041\n",
       "3         234\n",
       "4        1626\n",
       "        ...  \n",
       "3949     8737\n",
       "3950        1\n",
       "3951      214\n",
       "3952      749\n",
       "3953     1286\n",
       "Length: 3954, dtype: int64"
      ]
     },
     "execution_count": 9,
     "metadata": {},
     "output_type": "execute_result"
    }
   ],
   "source": [
    "active = daily_report[\"Confirmed\"] - daily_report[\"Deaths\"] - daily_report[\"Recovered\"]\n",
    "active"
   ]
  },
  {
   "cell_type": "markdown",
   "metadata": {},
   "source": [
    "與原本資料框中的欄位 Active 比對可以檢查每日報告中有問題的觀測值紀錄。"
   ]
  },
  {
   "cell_type": "code",
   "execution_count": 10,
   "metadata": {},
   "outputs": [
    {
     "name": "stdout",
     "output_type": "stream",
     "text": [
      "4\n"
     ]
    },
    {
     "data": {
      "text/html": [
       "<div>\n",
       "<style scoped>\n",
       "    .dataframe tbody tr th:only-of-type {\n",
       "        vertical-align: middle;\n",
       "    }\n",
       "\n",
       "    .dataframe tbody tr th {\n",
       "        vertical-align: top;\n",
       "    }\n",
       "\n",
       "    .dataframe thead th {\n",
       "        text-align: right;\n",
       "    }\n",
       "</style>\n",
       "<table border=\"1\" class=\"dataframe\">\n",
       "  <thead>\n",
       "    <tr style=\"text-align: right;\">\n",
       "      <th></th>\n",
       "      <th>FIPS</th>\n",
       "      <th>Admin2</th>\n",
       "      <th>Province_State</th>\n",
       "      <th>Country_Region</th>\n",
       "      <th>Last_Update</th>\n",
       "      <th>Lat</th>\n",
       "      <th>Long_</th>\n",
       "      <th>Confirmed</th>\n",
       "      <th>Deaths</th>\n",
       "      <th>Recovered</th>\n",
       "      <th>Active</th>\n",
       "      <th>Combined_Key</th>\n",
       "      <th>Incidence_Rate</th>\n",
       "      <th>Case-Fatality_Ratio</th>\n",
       "    </tr>\n",
       "  </thead>\n",
       "  <tbody>\n",
       "    <tr>\n",
       "      <th>67</th>\n",
       "      <td>NaN</td>\n",
       "      <td>NaN</td>\n",
       "      <td>Diamond Princess</td>\n",
       "      <td>Canada</td>\n",
       "      <td>2020-09-06 04:28:33</td>\n",
       "      <td>NaN</td>\n",
       "      <td>NaN</td>\n",
       "      <td>0</td>\n",
       "      <td>1</td>\n",
       "      <td>0</td>\n",
       "      <td>NaN</td>\n",
       "      <td>Diamond Princess, Canada</td>\n",
       "      <td>NaN</td>\n",
       "      <td>NaN</td>\n",
       "    </tr>\n",
       "    <tr>\n",
       "      <th>96</th>\n",
       "      <td>NaN</td>\n",
       "      <td>NaN</td>\n",
       "      <td>Unknown</td>\n",
       "      <td>Chile</td>\n",
       "      <td>2020-09-06 04:28:33</td>\n",
       "      <td>NaN</td>\n",
       "      <td>NaN</td>\n",
       "      <td>54</td>\n",
       "      <td>1</td>\n",
       "      <td>54</td>\n",
       "      <td>NaN</td>\n",
       "      <td>Unknown, Chile</td>\n",
       "      <td>NaN</td>\n",
       "      <td>1.851852</td>\n",
       "    </tr>\n",
       "    <tr>\n",
       "      <th>740</th>\n",
       "      <td>90004.0</td>\n",
       "      <td>Unassigned</td>\n",
       "      <td>Arizona</td>\n",
       "      <td>US</td>\n",
       "      <td>2020-09-06 04:28:33</td>\n",
       "      <td>NaN</td>\n",
       "      <td>NaN</td>\n",
       "      <td>1</td>\n",
       "      <td>1</td>\n",
       "      <td>0</td>\n",
       "      <td>NaN</td>\n",
       "      <td>Unassigned, Arizona, US</td>\n",
       "      <td>NaN</td>\n",
       "      <td>100.000000</td>\n",
       "    </tr>\n",
       "    <tr>\n",
       "      <th>1517</th>\n",
       "      <td>19159.0</td>\n",
       "      <td>Ringgold</td>\n",
       "      <td>Iowa</td>\n",
       "      <td>US</td>\n",
       "      <td>2020-09-06 04:28:33</td>\n",
       "      <td>40.735189</td>\n",
       "      <td>-94.243685</td>\n",
       "      <td>34</td>\n",
       "      <td>1</td>\n",
       "      <td>0</td>\n",
       "      <td>32.0</td>\n",
       "      <td>Ringgold, Iowa, US</td>\n",
       "      <td>694.728239</td>\n",
       "      <td>2.941176</td>\n",
       "    </tr>\n",
       "  </tbody>\n",
       "</table>\n",
       "</div>"
      ],
      "text/plain": [
       "         FIPS      Admin2    Province_State Country_Region  \\\n",
       "67        NaN         NaN  Diamond Princess         Canada   \n",
       "96        NaN         NaN           Unknown          Chile   \n",
       "740   90004.0  Unassigned           Arizona             US   \n",
       "1517  19159.0    Ringgold              Iowa             US   \n",
       "\n",
       "              Last_Update        Lat      Long_  Confirmed  Deaths  Recovered  \\\n",
       "67    2020-09-06 04:28:33        NaN        NaN          0       1          0   \n",
       "96    2020-09-06 04:28:33        NaN        NaN         54       1         54   \n",
       "740   2020-09-06 04:28:33        NaN        NaN          1       1          0   \n",
       "1517  2020-09-06 04:28:33  40.735189 -94.243685         34       1          0   \n",
       "\n",
       "      Active              Combined_Key  Incidence_Rate  Case-Fatality_Ratio  \n",
       "67       NaN  Diamond Princess, Canada             NaN                  NaN  \n",
       "96       NaN            Unknown, Chile             NaN             1.851852  \n",
       "740      NaN   Unassigned, Arizona, US             NaN           100.000000  \n",
       "1517    32.0        Ringgold, Iowa, US      694.728239             2.941176  "
      ]
     },
     "execution_count": 10,
     "metadata": {},
     "output_type": "execute_result"
    }
   ],
   "source": [
    "print((active != daily_report[\"Active\"]).sum()) # 衍生欄位與原有欄位 Active 不同的觀測值數有幾筆\n",
    "daily_report[active != daily_report[\"Active\"]]  # 問題的觀測值紀錄"
   ]
  },
  {
   "cell_type": "markdown",
   "metadata": {},
   "source": [
    "在資料框的第 0 欄插入衍生欄位。"
   ]
  },
  {
   "cell_type": "code",
   "execution_count": 11,
   "metadata": {},
   "outputs": [
    {
     "data": {
      "text/html": [
       "<div>\n",
       "<style scoped>\n",
       "    .dataframe tbody tr th:only-of-type {\n",
       "        vertical-align: middle;\n",
       "    }\n",
       "\n",
       "    .dataframe tbody tr th {\n",
       "        vertical-align: top;\n",
       "    }\n",
       "\n",
       "    .dataframe thead th {\n",
       "        text-align: right;\n",
       "    }\n",
       "</style>\n",
       "<table border=\"1\" class=\"dataframe\">\n",
       "  <thead>\n",
       "    <tr style=\"text-align: right;\">\n",
       "      <th></th>\n",
       "      <th>Derived_Active</th>\n",
       "      <th>FIPS</th>\n",
       "      <th>Admin2</th>\n",
       "      <th>Province_State</th>\n",
       "      <th>Country_Region</th>\n",
       "      <th>Last_Update</th>\n",
       "      <th>Lat</th>\n",
       "      <th>Long_</th>\n",
       "      <th>Confirmed</th>\n",
       "      <th>Deaths</th>\n",
       "      <th>Recovered</th>\n",
       "      <th>Active</th>\n",
       "      <th>Combined_Key</th>\n",
       "      <th>Incidence_Rate</th>\n",
       "      <th>Case-Fatality_Ratio</th>\n",
       "    </tr>\n",
       "  </thead>\n",
       "  <tbody>\n",
       "    <tr>\n",
       "      <th>0</th>\n",
       "      <td>6833</td>\n",
       "      <td>NaN</td>\n",
       "      <td>NaN</td>\n",
       "      <td>NaN</td>\n",
       "      <td>Afghanistan</td>\n",
       "      <td>2020-09-06 04:28:33</td>\n",
       "      <td>33.93911</td>\n",
       "      <td>67.709953</td>\n",
       "      <td>38324</td>\n",
       "      <td>1409</td>\n",
       "      <td>30082</td>\n",
       "      <td>6833.0</td>\n",
       "      <td>Afghanistan</td>\n",
       "      <td>98.447555</td>\n",
       "      <td>3.676547</td>\n",
       "    </tr>\n",
       "    <tr>\n",
       "      <th>1</th>\n",
       "      <td>3814</td>\n",
       "      <td>NaN</td>\n",
       "      <td>NaN</td>\n",
       "      <td>NaN</td>\n",
       "      <td>Albania</td>\n",
       "      <td>2020-09-06 04:28:33</td>\n",
       "      <td>41.15330</td>\n",
       "      <td>20.168300</td>\n",
       "      <td>10102</td>\n",
       "      <td>312</td>\n",
       "      <td>5976</td>\n",
       "      <td>3814.0</td>\n",
       "      <td>Albania</td>\n",
       "      <td>351.032038</td>\n",
       "      <td>3.088497</td>\n",
       "    </tr>\n",
       "    <tr>\n",
       "      <th>2</th>\n",
       "      <td>12041</td>\n",
       "      <td>NaN</td>\n",
       "      <td>NaN</td>\n",
       "      <td>NaN</td>\n",
       "      <td>Algeria</td>\n",
       "      <td>2020-09-06 04:28:33</td>\n",
       "      <td>28.03390</td>\n",
       "      <td>1.659600</td>\n",
       "      <td>46071</td>\n",
       "      <td>1549</td>\n",
       "      <td>32481</td>\n",
       "      <td>12041.0</td>\n",
       "      <td>Algeria</td>\n",
       "      <td>105.062495</td>\n",
       "      <td>3.362202</td>\n",
       "    </tr>\n",
       "    <tr>\n",
       "      <th>3</th>\n",
       "      <td>234</td>\n",
       "      <td>NaN</td>\n",
       "      <td>NaN</td>\n",
       "      <td>NaN</td>\n",
       "      <td>Andorra</td>\n",
       "      <td>2020-09-06 04:28:33</td>\n",
       "      <td>42.50630</td>\n",
       "      <td>1.521800</td>\n",
       "      <td>1215</td>\n",
       "      <td>53</td>\n",
       "      <td>928</td>\n",
       "      <td>234.0</td>\n",
       "      <td>Andorra</td>\n",
       "      <td>1572.510192</td>\n",
       "      <td>4.362140</td>\n",
       "    </tr>\n",
       "    <tr>\n",
       "      <th>4</th>\n",
       "      <td>1626</td>\n",
       "      <td>NaN</td>\n",
       "      <td>NaN</td>\n",
       "      <td>NaN</td>\n",
       "      <td>Angola</td>\n",
       "      <td>2020-09-06 04:28:33</td>\n",
       "      <td>-11.20270</td>\n",
       "      <td>17.873900</td>\n",
       "      <td>2935</td>\n",
       "      <td>117</td>\n",
       "      <td>1192</td>\n",
       "      <td>1626.0</td>\n",
       "      <td>Angola</td>\n",
       "      <td>8.930129</td>\n",
       "      <td>3.986371</td>\n",
       "    </tr>\n",
       "  </tbody>\n",
       "</table>\n",
       "</div>"
      ],
      "text/plain": [
       "   Derived_Active  FIPS Admin2 Province_State Country_Region  \\\n",
       "0            6833   NaN    NaN            NaN    Afghanistan   \n",
       "1            3814   NaN    NaN            NaN        Albania   \n",
       "2           12041   NaN    NaN            NaN        Algeria   \n",
       "3             234   NaN    NaN            NaN        Andorra   \n",
       "4            1626   NaN    NaN            NaN         Angola   \n",
       "\n",
       "           Last_Update       Lat      Long_  Confirmed  Deaths  Recovered  \\\n",
       "0  2020-09-06 04:28:33  33.93911  67.709953      38324    1409      30082   \n",
       "1  2020-09-06 04:28:33  41.15330  20.168300      10102     312       5976   \n",
       "2  2020-09-06 04:28:33  28.03390   1.659600      46071    1549      32481   \n",
       "3  2020-09-06 04:28:33  42.50630   1.521800       1215      53        928   \n",
       "4  2020-09-06 04:28:33 -11.20270  17.873900       2935     117       1192   \n",
       "\n",
       "    Active Combined_Key  Incidence_Rate  Case-Fatality_Ratio  \n",
       "0   6833.0  Afghanistan       98.447555             3.676547  \n",
       "1   3814.0      Albania      351.032038             3.088497  \n",
       "2  12041.0      Algeria      105.062495             3.362202  \n",
       "3    234.0      Andorra     1572.510192             4.362140  \n",
       "4   1626.0       Angola        8.930129             3.986371  "
      ]
     },
     "execution_count": 11,
     "metadata": {},
     "output_type": "execute_result"
    }
   ],
   "source": [
    "daily_report.insert(0, 'Derived_Active', active)\n",
    "daily_report.head()"
   ]
  },
  {
   "cell_type": "markdown",
   "metadata": {},
   "source": [
    "## 選擇特定欄位\n",
    "\n",
    "在中括號裡頭輸入欄位名稱可以將資料以 `Series` 外型從資料框中取出。"
   ]
  },
  {
   "cell_type": "code",
   "execution_count": 12,
   "metadata": {},
   "outputs": [
    {
     "data": {
      "text/plain": [
       "0              Afghanistan\n",
       "1                  Albania\n",
       "2                  Algeria\n",
       "3                  Andorra\n",
       "4                   Angola\n",
       "               ...        \n",
       "3949    West Bank and Gaza\n",
       "3950        Western Sahara\n",
       "3951                 Yemen\n",
       "3952                Zambia\n",
       "3953              Zimbabwe\n",
       "Name: Country_Region, Length: 3954, dtype: object"
      ]
     },
     "execution_count": 12,
     "metadata": {},
     "output_type": "execute_result"
    }
   ],
   "source": [
    "daily_report[\"Country_Region\"]"
   ]
  },
  {
   "cell_type": "markdown",
   "metadata": {},
   "source": [
    "若想要選擇多個欄位，將多個欄位名稱以 `list` 傳入中括號。"
   ]
  },
  {
   "cell_type": "code",
   "execution_count": 13,
   "metadata": {},
   "outputs": [
    {
     "data": {
      "text/html": [
       "<div>\n",
       "<style scoped>\n",
       "    .dataframe tbody tr th:only-of-type {\n",
       "        vertical-align: middle;\n",
       "    }\n",
       "\n",
       "    .dataframe tbody tr th {\n",
       "        vertical-align: top;\n",
       "    }\n",
       "\n",
       "    .dataframe thead th {\n",
       "        text-align: right;\n",
       "    }\n",
       "</style>\n",
       "<table border=\"1\" class=\"dataframe\">\n",
       "  <thead>\n",
       "    <tr style=\"text-align: right;\">\n",
       "      <th></th>\n",
       "      <th>Country_Region</th>\n",
       "      <th>Confirmed</th>\n",
       "      <th>Deaths</th>\n",
       "      <th>Recovered</th>\n",
       "    </tr>\n",
       "  </thead>\n",
       "  <tbody>\n",
       "    <tr>\n",
       "      <th>0</th>\n",
       "      <td>Afghanistan</td>\n",
       "      <td>38324</td>\n",
       "      <td>1409</td>\n",
       "      <td>30082</td>\n",
       "    </tr>\n",
       "    <tr>\n",
       "      <th>1</th>\n",
       "      <td>Albania</td>\n",
       "      <td>10102</td>\n",
       "      <td>312</td>\n",
       "      <td>5976</td>\n",
       "    </tr>\n",
       "    <tr>\n",
       "      <th>2</th>\n",
       "      <td>Algeria</td>\n",
       "      <td>46071</td>\n",
       "      <td>1549</td>\n",
       "      <td>32481</td>\n",
       "    </tr>\n",
       "    <tr>\n",
       "      <th>3</th>\n",
       "      <td>Andorra</td>\n",
       "      <td>1215</td>\n",
       "      <td>53</td>\n",
       "      <td>928</td>\n",
       "    </tr>\n",
       "    <tr>\n",
       "      <th>4</th>\n",
       "      <td>Angola</td>\n",
       "      <td>2935</td>\n",
       "      <td>117</td>\n",
       "      <td>1192</td>\n",
       "    </tr>\n",
       "    <tr>\n",
       "      <th>...</th>\n",
       "      <td>...</td>\n",
       "      <td>...</td>\n",
       "      <td>...</td>\n",
       "      <td>...</td>\n",
       "    </tr>\n",
       "    <tr>\n",
       "      <th>3949</th>\n",
       "      <td>West Bank and Gaza</td>\n",
       "      <td>25575</td>\n",
       "      <td>177</td>\n",
       "      <td>16661</td>\n",
       "    </tr>\n",
       "    <tr>\n",
       "      <th>3950</th>\n",
       "      <td>Western Sahara</td>\n",
       "      <td>10</td>\n",
       "      <td>1</td>\n",
       "      <td>8</td>\n",
       "    </tr>\n",
       "    <tr>\n",
       "      <th>3951</th>\n",
       "      <td>Yemen</td>\n",
       "      <td>1983</td>\n",
       "      <td>572</td>\n",
       "      <td>1197</td>\n",
       "    </tr>\n",
       "    <tr>\n",
       "      <th>3952</th>\n",
       "      <td>Zambia</td>\n",
       "      <td>12709</td>\n",
       "      <td>292</td>\n",
       "      <td>11668</td>\n",
       "    </tr>\n",
       "    <tr>\n",
       "      <th>3953</th>\n",
       "      <td>Zimbabwe</td>\n",
       "      <td>6837</td>\n",
       "      <td>206</td>\n",
       "      <td>5345</td>\n",
       "    </tr>\n",
       "  </tbody>\n",
       "</table>\n",
       "<p>3954 rows × 4 columns</p>\n",
       "</div>"
      ],
      "text/plain": [
       "          Country_Region  Confirmed  Deaths  Recovered\n",
       "0            Afghanistan      38324    1409      30082\n",
       "1                Albania      10102     312       5976\n",
       "2                Algeria      46071    1549      32481\n",
       "3                Andorra       1215      53        928\n",
       "4                 Angola       2935     117       1192\n",
       "...                  ...        ...     ...        ...\n",
       "3949  West Bank and Gaza      25575     177      16661\n",
       "3950      Western Sahara         10       1          8\n",
       "3951               Yemen       1983     572       1197\n",
       "3952              Zambia      12709     292      11668\n",
       "3953            Zimbabwe       6837     206       5345\n",
       "\n",
       "[3954 rows x 4 columns]"
      ]
     },
     "execution_count": 13,
     "metadata": {},
     "output_type": "execute_result"
    }
   ],
   "source": [
    "multiple_columns = [\"Country_Region\", \"Confirmed\", \"Deaths\", \"Recovered\"]\n",
    "daily_report[multiple_columns]"
   ]
  },
  {
   "cell_type": "markdown",
   "metadata": {},
   "source": [
    "## 篩選指定觀測值\n",
    "\n",
    "在中括號裡頭輸入判斷條件所獲得的布林值 `Series` 可以獲得指定的觀測值。"
   ]
  },
  {
   "cell_type": "code",
   "execution_count": 14,
   "metadata": {},
   "outputs": [
    {
     "data": {
      "text/plain": [
       "0       False\n",
       "1       False\n",
       "2       False\n",
       "3       False\n",
       "4       False\n",
       "        ...  \n",
       "3949    False\n",
       "3950    False\n",
       "3951    False\n",
       "3952    False\n",
       "3953    False\n",
       "Name: Country_Region, Length: 3954, dtype: bool"
      ]
     },
     "execution_count": 14,
     "metadata": {},
     "output_type": "execute_result"
    }
   ],
   "source": [
    "is_tw = daily_report['Country_Region'] == 'Taiwan*' # 台灣在哪裡\n",
    "is_tw"
   ]
  },
  {
   "cell_type": "code",
   "execution_count": 15,
   "metadata": {},
   "outputs": [
    {
     "data": {
      "text/html": [
       "<div>\n",
       "<style scoped>\n",
       "    .dataframe tbody tr th:only-of-type {\n",
       "        vertical-align: middle;\n",
       "    }\n",
       "\n",
       "    .dataframe tbody tr th {\n",
       "        vertical-align: top;\n",
       "    }\n",
       "\n",
       "    .dataframe thead th {\n",
       "        text-align: right;\n",
       "    }\n",
       "</style>\n",
       "<table border=\"1\" class=\"dataframe\">\n",
       "  <thead>\n",
       "    <tr style=\"text-align: right;\">\n",
       "      <th></th>\n",
       "      <th>Derived_Active</th>\n",
       "      <th>FIPS</th>\n",
       "      <th>Admin2</th>\n",
       "      <th>Province_State</th>\n",
       "      <th>Country_Region</th>\n",
       "      <th>Last_Update</th>\n",
       "      <th>Lat</th>\n",
       "      <th>Long_</th>\n",
       "      <th>Confirmed</th>\n",
       "      <th>Deaths</th>\n",
       "      <th>Recovered</th>\n",
       "      <th>Active</th>\n",
       "      <th>Combined_Key</th>\n",
       "      <th>Incidence_Rate</th>\n",
       "      <th>Case-Fatality_Ratio</th>\n",
       "    </tr>\n",
       "  </thead>\n",
       "  <tbody>\n",
       "    <tr>\n",
       "      <th>622</th>\n",
       "      <td>12</td>\n",
       "      <td>NaN</td>\n",
       "      <td>NaN</td>\n",
       "      <td>NaN</td>\n",
       "      <td>Taiwan*</td>\n",
       "      <td>2020-09-06 04:28:33</td>\n",
       "      <td>23.7</td>\n",
       "      <td>121.0</td>\n",
       "      <td>492</td>\n",
       "      <td>7</td>\n",
       "      <td>473</td>\n",
       "      <td>12.0</td>\n",
       "      <td>Taiwan*</td>\n",
       "      <td>2.065771</td>\n",
       "      <td>1.422764</td>\n",
       "    </tr>\n",
       "  </tbody>\n",
       "</table>\n",
       "</div>"
      ],
      "text/plain": [
       "     Derived_Active  FIPS Admin2 Province_State Country_Region  \\\n",
       "622              12   NaN    NaN            NaN        Taiwan*   \n",
       "\n",
       "             Last_Update   Lat  Long_  Confirmed  Deaths  Recovered  Active  \\\n",
       "622  2020-09-06 04:28:33  23.7  121.0        492       7        473    12.0   \n",
       "\n",
       "    Combined_Key  Incidence_Rate  Case-Fatality_Ratio  \n",
       "622      Taiwan*        2.065771             1.422764  "
      ]
     },
     "execution_count": 15,
     "metadata": {},
     "output_type": "execute_result"
    }
   ],
   "source": [
    "daily_report[is_tw] # is_tw 是一個布林值 Series"
   ]
  },
  {
   "cell_type": "markdown",
   "metadata": {},
   "source": [
    "## 分組摘要\n",
    "\n",
    "以國家為單位，所以在 `groupby()` 方法中傳入 Country_Region 欄位，獲得一個 `DataFrameGroupBy` 類別。"
   ]
  },
  {
   "cell_type": "code",
   "execution_count": 16,
   "metadata": {},
   "outputs": [
    {
     "data": {
      "text/plain": [
       "<pandas.core.groupby.generic.DataFrameGroupBy object at 0x7ffe6f5f12b0>"
      ]
     },
     "execution_count": 16,
     "metadata": {},
     "output_type": "execute_result"
    }
   ],
   "source": [
    "daily_report.groupby(\"Country_Region\")"
   ]
  },
  {
   "cell_type": "markdown",
   "metadata": {},
   "source": [
    "指定 `DataFrameGroupBy` 類別的欄位與聚合函式，獲得分組摘要的結果，是一個 `Series`。"
   ]
  },
  {
   "cell_type": "code",
   "execution_count": 17,
   "metadata": {},
   "outputs": [
    {
     "data": {
      "text/plain": [
       "Country_Region\n",
       "Afghanistan           38324\n",
       "Albania               10102\n",
       "Algeria               46071\n",
       "Andorra                1215\n",
       "Angola                 2935\n",
       "                      ...  \n",
       "West Bank and Gaza    25575\n",
       "Western Sahara           10\n",
       "Yemen                  1983\n",
       "Zambia                12709\n",
       "Zimbabwe               6837\n",
       "Name: Confirmed, Length: 188, dtype: int64"
      ]
     },
     "execution_count": 17,
     "metadata": {},
     "output_type": "execute_result"
    }
   ],
   "source": [
    "daily_report.groupby(\"Country_Region\")['Confirmed'].sum()"
   ]
  },
  {
   "cell_type": "markdown",
   "metadata": {},
   "source": [
    "## 排序\n",
    "\n",
    "呼叫 `Series` 的 `sort_values(ascending=False)` 方法將摘要結果由大到小遞減排序。"
   ]
  },
  {
   "cell_type": "code",
   "execution_count": 18,
   "metadata": {},
   "outputs": [
    {
     "data": {
      "text/plain": [
       "Country_Region\n",
       "US              6244970\n",
       "Brazil          4123000\n",
       "India           4113811\n",
       "Russia          1017131\n",
       "Peru             676848\n",
       "Colombia         650055\n",
       "South Africa     636884\n",
       "Mexico           629409\n",
       "Spain            498989\n",
       "Argentina        471806\n",
       "Name: Confirmed, dtype: int64"
      ]
     },
     "execution_count": 18,
     "metadata": {},
     "output_type": "execute_result"
    }
   ],
   "source": [
    "confirmed_by_country = daily_report.groupby(\"Country_Region\")['Confirmed'].sum()\n",
    "confirmed_by_country.sort_values(ascending=False)[:10] # 顯示確診人數前 10 高的國家"
   ]
  }
 ],
 "metadata": {
  "kernelspec": {
   "display_name": "Python Data Analysis",
   "language": "python",
   "name": "pyda"
  },
  "language_info": {
   "codemirror_mode": {
    "name": "ipython",
    "version": 3
   },
   "file_extension": ".py",
   "mimetype": "text/x-python",
   "name": "python",
   "nbconvert_exporter": "python",
   "pygments_lexer": "ipython3",
   "version": "3.6.8"
  }
 },
 "nbformat": 4,
 "nbformat_minor": 4
}
